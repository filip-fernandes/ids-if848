{
  "cells": [
    {
      "cell_type": "markdown",
      "source": [
        "# Imports das bibliotecas utilizadas"
      ],
      "metadata": {
        "id": "o9oXxHa5ZJDl"
      }
    },
    {
      "cell_type": "code",
      "execution_count": 1,
      "metadata": {
        "id": "mahjWWXCvCc4"
      },
      "outputs": [],
      "source": [
        "import numpy as np\n",
        "\n",
        "import random\n",
        "\n",
        "import torch\n",
        "import torch.nn as nn\n",
        "import torch.optim as optim\n",
        "\n",
        "import torchvision\n",
        "import torchvision.transforms as transforms\n",
        "from torchvision import datasets, transforms\n",
        "\n",
        "from torch.nn.utils.parametrizations import spectral_norm\n",
        "from torch.nn.functional import cross_entropy, cosine_similarity\n",
        "from torch.utils.data import DataLoader\n",
        "\n",
        "from torch.utils.data import TensorDataset, DataLoader\n",
        "\n",
        "from sklearn.metrics import roc_curve, auc\n",
        "import matplotlib.pyplot as plt\n",
        "\n",
        "\n",
        "torch.manual_seed(9)\n",
        "np.random.seed(9)"
      ]
    },
    {
      "cell_type": "markdown",
      "metadata": {
        "id": "nlNNurOtTveb"
      },
      "source": [
        "# Importar, preprocessar dividir os dados de treino escolhidos por nós (KDD99 10%)"
      ]
    },
    {
      "cell_type": "markdown",
      "source": [
        "## Baixar os dados"
      ],
      "metadata": {
        "id": "MqGcsZU1Uhpq"
      }
    },
    {
      "cell_type": "code",
      "execution_count": 34,
      "metadata": {
        "id": "sf0PTZ_aSZ7J",
        "colab": {
          "base_uri": "https://localhost:8080/"
        },
        "outputId": "e9a479d8-b142-421d-e437-9152b60a6c9b"
      },
      "outputs": [
        {
          "output_type": "stream",
          "name": "stdout",
          "text": [
            "--2024-03-15 22:58:27--  http://kdd.ics.uci.edu/databases/kddcup99/kddcup.data_10_percent.gz\n",
            "Resolving kdd.ics.uci.edu (kdd.ics.uci.edu)... 128.195.1.86\n",
            "Connecting to kdd.ics.uci.edu (kdd.ics.uci.edu)|128.195.1.86|:80... connected.\n",
            "HTTP request sent, awaiting response... 200 OK\n",
            "Length: 2144903 (2.0M) [application/x-gzip]\n",
            "Saving to: ‘kddcup.data_10_percent.gz.2’\n",
            "\n",
            "kddcup.data_10_perc 100%[===================>]   2.04M  1.90MB/s    in 1.1s    \n",
            "\n",
            "2024-03-15 22:58:28 (1.90 MB/s) - ‘kddcup.data_10_percent.gz.2’ saved [2144903/2144903]\n",
            "\n"
          ]
        }
      ],
      "source": [
        "!wget http://kdd.ics.uci.edu/databases/kddcup99/kddcup.data_10_percent.gz"
      ]
    },
    {
      "cell_type": "code",
      "execution_count": 35,
      "metadata": {
        "id": "R0are1VySgPI",
        "colab": {
          "base_uri": "https://localhost:8080/",
          "height": 235
        },
        "outputId": "f74eb66a-f424-4080-b355-a7d10657fc9d"
      },
      "outputs": [
        {
          "output_type": "execute_result",
          "data": {
            "text/plain": [
              "   0    1     2   3    4     5   6   7   8   9   ...  32   33   34    35   36  \\\n",
              "0   0  tcp  http  SF  181  5450   0   0   0   0  ...   9  1.0  0.0  0.11  0.0   \n",
              "1   0  tcp  http  SF  239   486   0   0   0   0  ...  19  1.0  0.0  0.05  0.0   \n",
              "2   0  tcp  http  SF  235  1337   0   0   0   0  ...  29  1.0  0.0  0.03  0.0   \n",
              "3   0  tcp  http  SF  219  1337   0   0   0   0  ...  39  1.0  0.0  0.03  0.0   \n",
              "4   0  tcp  http  SF  217  2032   0   0   0   0  ...  49  1.0  0.0  0.02  0.0   \n",
              "\n",
              "    37   38   39   40       41  \n",
              "0  0.0  0.0  0.0  0.0  normal.  \n",
              "1  0.0  0.0  0.0  0.0  normal.  \n",
              "2  0.0  0.0  0.0  0.0  normal.  \n",
              "3  0.0  0.0  0.0  0.0  normal.  \n",
              "4  0.0  0.0  0.0  0.0  normal.  \n",
              "\n",
              "[5 rows x 42 columns]"
            ],
            "text/html": [
              "\n",
              "  <div id=\"df-2ef75614-ae45-4a19-b2f1-7c49a92ba328\" class=\"colab-df-container\">\n",
              "    <div>\n",
              "<style scoped>\n",
              "    .dataframe tbody tr th:only-of-type {\n",
              "        vertical-align: middle;\n",
              "    }\n",
              "\n",
              "    .dataframe tbody tr th {\n",
              "        vertical-align: top;\n",
              "    }\n",
              "\n",
              "    .dataframe thead th {\n",
              "        text-align: right;\n",
              "    }\n",
              "</style>\n",
              "<table border=\"1\" class=\"dataframe\">\n",
              "  <thead>\n",
              "    <tr style=\"text-align: right;\">\n",
              "      <th></th>\n",
              "      <th>0</th>\n",
              "      <th>1</th>\n",
              "      <th>2</th>\n",
              "      <th>3</th>\n",
              "      <th>4</th>\n",
              "      <th>5</th>\n",
              "      <th>6</th>\n",
              "      <th>7</th>\n",
              "      <th>8</th>\n",
              "      <th>9</th>\n",
              "      <th>...</th>\n",
              "      <th>32</th>\n",
              "      <th>33</th>\n",
              "      <th>34</th>\n",
              "      <th>35</th>\n",
              "      <th>36</th>\n",
              "      <th>37</th>\n",
              "      <th>38</th>\n",
              "      <th>39</th>\n",
              "      <th>40</th>\n",
              "      <th>41</th>\n",
              "    </tr>\n",
              "  </thead>\n",
              "  <tbody>\n",
              "    <tr>\n",
              "      <th>0</th>\n",
              "      <td>0</td>\n",
              "      <td>tcp</td>\n",
              "      <td>http</td>\n",
              "      <td>SF</td>\n",
              "      <td>181</td>\n",
              "      <td>5450</td>\n",
              "      <td>0</td>\n",
              "      <td>0</td>\n",
              "      <td>0</td>\n",
              "      <td>0</td>\n",
              "      <td>...</td>\n",
              "      <td>9</td>\n",
              "      <td>1.0</td>\n",
              "      <td>0.0</td>\n",
              "      <td>0.11</td>\n",
              "      <td>0.0</td>\n",
              "      <td>0.0</td>\n",
              "      <td>0.0</td>\n",
              "      <td>0.0</td>\n",
              "      <td>0.0</td>\n",
              "      <td>normal.</td>\n",
              "    </tr>\n",
              "    <tr>\n",
              "      <th>1</th>\n",
              "      <td>0</td>\n",
              "      <td>tcp</td>\n",
              "      <td>http</td>\n",
              "      <td>SF</td>\n",
              "      <td>239</td>\n",
              "      <td>486</td>\n",
              "      <td>0</td>\n",
              "      <td>0</td>\n",
              "      <td>0</td>\n",
              "      <td>0</td>\n",
              "      <td>...</td>\n",
              "      <td>19</td>\n",
              "      <td>1.0</td>\n",
              "      <td>0.0</td>\n",
              "      <td>0.05</td>\n",
              "      <td>0.0</td>\n",
              "      <td>0.0</td>\n",
              "      <td>0.0</td>\n",
              "      <td>0.0</td>\n",
              "      <td>0.0</td>\n",
              "      <td>normal.</td>\n",
              "    </tr>\n",
              "    <tr>\n",
              "      <th>2</th>\n",
              "      <td>0</td>\n",
              "      <td>tcp</td>\n",
              "      <td>http</td>\n",
              "      <td>SF</td>\n",
              "      <td>235</td>\n",
              "      <td>1337</td>\n",
              "      <td>0</td>\n",
              "      <td>0</td>\n",
              "      <td>0</td>\n",
              "      <td>0</td>\n",
              "      <td>...</td>\n",
              "      <td>29</td>\n",
              "      <td>1.0</td>\n",
              "      <td>0.0</td>\n",
              "      <td>0.03</td>\n",
              "      <td>0.0</td>\n",
              "      <td>0.0</td>\n",
              "      <td>0.0</td>\n",
              "      <td>0.0</td>\n",
              "      <td>0.0</td>\n",
              "      <td>normal.</td>\n",
              "    </tr>\n",
              "    <tr>\n",
              "      <th>3</th>\n",
              "      <td>0</td>\n",
              "      <td>tcp</td>\n",
              "      <td>http</td>\n",
              "      <td>SF</td>\n",
              "      <td>219</td>\n",
              "      <td>1337</td>\n",
              "      <td>0</td>\n",
              "      <td>0</td>\n",
              "      <td>0</td>\n",
              "      <td>0</td>\n",
              "      <td>...</td>\n",
              "      <td>39</td>\n",
              "      <td>1.0</td>\n",
              "      <td>0.0</td>\n",
              "      <td>0.03</td>\n",
              "      <td>0.0</td>\n",
              "      <td>0.0</td>\n",
              "      <td>0.0</td>\n",
              "      <td>0.0</td>\n",
              "      <td>0.0</td>\n",
              "      <td>normal.</td>\n",
              "    </tr>\n",
              "    <tr>\n",
              "      <th>4</th>\n",
              "      <td>0</td>\n",
              "      <td>tcp</td>\n",
              "      <td>http</td>\n",
              "      <td>SF</td>\n",
              "      <td>217</td>\n",
              "      <td>2032</td>\n",
              "      <td>0</td>\n",
              "      <td>0</td>\n",
              "      <td>0</td>\n",
              "      <td>0</td>\n",
              "      <td>...</td>\n",
              "      <td>49</td>\n",
              "      <td>1.0</td>\n",
              "      <td>0.0</td>\n",
              "      <td>0.02</td>\n",
              "      <td>0.0</td>\n",
              "      <td>0.0</td>\n",
              "      <td>0.0</td>\n",
              "      <td>0.0</td>\n",
              "      <td>0.0</td>\n",
              "      <td>normal.</td>\n",
              "    </tr>\n",
              "  </tbody>\n",
              "</table>\n",
              "<p>5 rows × 42 columns</p>\n",
              "</div>\n",
              "    <div class=\"colab-df-buttons\">\n",
              "\n",
              "  <div class=\"colab-df-container\">\n",
              "    <button class=\"colab-df-convert\" onclick=\"convertToInteractive('df-2ef75614-ae45-4a19-b2f1-7c49a92ba328')\"\n",
              "            title=\"Convert this dataframe to an interactive table.\"\n",
              "            style=\"display:none;\">\n",
              "\n",
              "  <svg xmlns=\"http://www.w3.org/2000/svg\" height=\"24px\" viewBox=\"0 -960 960 960\">\n",
              "    <path d=\"M120-120v-720h720v720H120Zm60-500h600v-160H180v160Zm220 220h160v-160H400v160Zm0 220h160v-160H400v160ZM180-400h160v-160H180v160Zm440 0h160v-160H620v160ZM180-180h160v-160H180v160Zm440 0h160v-160H620v160Z\"/>\n",
              "  </svg>\n",
              "    </button>\n",
              "\n",
              "  <style>\n",
              "    .colab-df-container {\n",
              "      display:flex;\n",
              "      gap: 12px;\n",
              "    }\n",
              "\n",
              "    .colab-df-convert {\n",
              "      background-color: #E8F0FE;\n",
              "      border: none;\n",
              "      border-radius: 50%;\n",
              "      cursor: pointer;\n",
              "      display: none;\n",
              "      fill: #1967D2;\n",
              "      height: 32px;\n",
              "      padding: 0 0 0 0;\n",
              "      width: 32px;\n",
              "    }\n",
              "\n",
              "    .colab-df-convert:hover {\n",
              "      background-color: #E2EBFA;\n",
              "      box-shadow: 0px 1px 2px rgba(60, 64, 67, 0.3), 0px 1px 3px 1px rgba(60, 64, 67, 0.15);\n",
              "      fill: #174EA6;\n",
              "    }\n",
              "\n",
              "    .colab-df-buttons div {\n",
              "      margin-bottom: 4px;\n",
              "    }\n",
              "\n",
              "    [theme=dark] .colab-df-convert {\n",
              "      background-color: #3B4455;\n",
              "      fill: #D2E3FC;\n",
              "    }\n",
              "\n",
              "    [theme=dark] .colab-df-convert:hover {\n",
              "      background-color: #434B5C;\n",
              "      box-shadow: 0px 1px 3px 1px rgba(0, 0, 0, 0.15);\n",
              "      filter: drop-shadow(0px 1px 2px rgba(0, 0, 0, 0.3));\n",
              "      fill: #FFFFFF;\n",
              "    }\n",
              "  </style>\n",
              "\n",
              "    <script>\n",
              "      const buttonEl =\n",
              "        document.querySelector('#df-2ef75614-ae45-4a19-b2f1-7c49a92ba328 button.colab-df-convert');\n",
              "      buttonEl.style.display =\n",
              "        google.colab.kernel.accessAllowed ? 'block' : 'none';\n",
              "\n",
              "      async function convertToInteractive(key) {\n",
              "        const element = document.querySelector('#df-2ef75614-ae45-4a19-b2f1-7c49a92ba328');\n",
              "        const dataTable =\n",
              "          await google.colab.kernel.invokeFunction('convertToInteractive',\n",
              "                                                    [key], {});\n",
              "        if (!dataTable) return;\n",
              "\n",
              "        const docLinkHtml = 'Like what you see? Visit the ' +\n",
              "          '<a target=\"_blank\" href=https://colab.research.google.com/notebooks/data_table.ipynb>data table notebook</a>'\n",
              "          + ' to learn more about interactive tables.';\n",
              "        element.innerHTML = '';\n",
              "        dataTable['output_type'] = 'display_data';\n",
              "        await google.colab.output.renderOutput(dataTable, element);\n",
              "        const docLink = document.createElement('div');\n",
              "        docLink.innerHTML = docLinkHtml;\n",
              "        element.appendChild(docLink);\n",
              "      }\n",
              "    </script>\n",
              "  </div>\n",
              "\n",
              "\n",
              "<div id=\"df-dc239429-4e44-4427-bcc0-0e98099bda1c\">\n",
              "  <button class=\"colab-df-quickchart\" onclick=\"quickchart('df-dc239429-4e44-4427-bcc0-0e98099bda1c')\"\n",
              "            title=\"Suggest charts\"\n",
              "            style=\"display:none;\">\n",
              "\n",
              "<svg xmlns=\"http://www.w3.org/2000/svg\" height=\"24px\"viewBox=\"0 0 24 24\"\n",
              "     width=\"24px\">\n",
              "    <g>\n",
              "        <path d=\"M19 3H5c-1.1 0-2 .9-2 2v14c0 1.1.9 2 2 2h14c1.1 0 2-.9 2-2V5c0-1.1-.9-2-2-2zM9 17H7v-7h2v7zm4 0h-2V7h2v10zm4 0h-2v-4h2v4z\"/>\n",
              "    </g>\n",
              "</svg>\n",
              "  </button>\n",
              "\n",
              "<style>\n",
              "  .colab-df-quickchart {\n",
              "      --bg-color: #E8F0FE;\n",
              "      --fill-color: #1967D2;\n",
              "      --hover-bg-color: #E2EBFA;\n",
              "      --hover-fill-color: #174EA6;\n",
              "      --disabled-fill-color: #AAA;\n",
              "      --disabled-bg-color: #DDD;\n",
              "  }\n",
              "\n",
              "  [theme=dark] .colab-df-quickchart {\n",
              "      --bg-color: #3B4455;\n",
              "      --fill-color: #D2E3FC;\n",
              "      --hover-bg-color: #434B5C;\n",
              "      --hover-fill-color: #FFFFFF;\n",
              "      --disabled-bg-color: #3B4455;\n",
              "      --disabled-fill-color: #666;\n",
              "  }\n",
              "\n",
              "  .colab-df-quickchart {\n",
              "    background-color: var(--bg-color);\n",
              "    border: none;\n",
              "    border-radius: 50%;\n",
              "    cursor: pointer;\n",
              "    display: none;\n",
              "    fill: var(--fill-color);\n",
              "    height: 32px;\n",
              "    padding: 0;\n",
              "    width: 32px;\n",
              "  }\n",
              "\n",
              "  .colab-df-quickchart:hover {\n",
              "    background-color: var(--hover-bg-color);\n",
              "    box-shadow: 0 1px 2px rgba(60, 64, 67, 0.3), 0 1px 3px 1px rgba(60, 64, 67, 0.15);\n",
              "    fill: var(--button-hover-fill-color);\n",
              "  }\n",
              "\n",
              "  .colab-df-quickchart-complete:disabled,\n",
              "  .colab-df-quickchart-complete:disabled:hover {\n",
              "    background-color: var(--disabled-bg-color);\n",
              "    fill: var(--disabled-fill-color);\n",
              "    box-shadow: none;\n",
              "  }\n",
              "\n",
              "  .colab-df-spinner {\n",
              "    border: 2px solid var(--fill-color);\n",
              "    border-color: transparent;\n",
              "    border-bottom-color: var(--fill-color);\n",
              "    animation:\n",
              "      spin 1s steps(1) infinite;\n",
              "  }\n",
              "\n",
              "  @keyframes spin {\n",
              "    0% {\n",
              "      border-color: transparent;\n",
              "      border-bottom-color: var(--fill-color);\n",
              "      border-left-color: var(--fill-color);\n",
              "    }\n",
              "    20% {\n",
              "      border-color: transparent;\n",
              "      border-left-color: var(--fill-color);\n",
              "      border-top-color: var(--fill-color);\n",
              "    }\n",
              "    30% {\n",
              "      border-color: transparent;\n",
              "      border-left-color: var(--fill-color);\n",
              "      border-top-color: var(--fill-color);\n",
              "      border-right-color: var(--fill-color);\n",
              "    }\n",
              "    40% {\n",
              "      border-color: transparent;\n",
              "      border-right-color: var(--fill-color);\n",
              "      border-top-color: var(--fill-color);\n",
              "    }\n",
              "    60% {\n",
              "      border-color: transparent;\n",
              "      border-right-color: var(--fill-color);\n",
              "    }\n",
              "    80% {\n",
              "      border-color: transparent;\n",
              "      border-right-color: var(--fill-color);\n",
              "      border-bottom-color: var(--fill-color);\n",
              "    }\n",
              "    90% {\n",
              "      border-color: transparent;\n",
              "      border-bottom-color: var(--fill-color);\n",
              "    }\n",
              "  }\n",
              "</style>\n",
              "\n",
              "  <script>\n",
              "    async function quickchart(key) {\n",
              "      const quickchartButtonEl =\n",
              "        document.querySelector('#' + key + ' button');\n",
              "      quickchartButtonEl.disabled = true;  // To prevent multiple clicks.\n",
              "      quickchartButtonEl.classList.add('colab-df-spinner');\n",
              "      try {\n",
              "        const charts = await google.colab.kernel.invokeFunction(\n",
              "            'suggestCharts', [key], {});\n",
              "      } catch (error) {\n",
              "        console.error('Error during call to suggestCharts:', error);\n",
              "      }\n",
              "      quickchartButtonEl.classList.remove('colab-df-spinner');\n",
              "      quickchartButtonEl.classList.add('colab-df-quickchart-complete');\n",
              "    }\n",
              "    (() => {\n",
              "      let quickchartButtonEl =\n",
              "        document.querySelector('#df-dc239429-4e44-4427-bcc0-0e98099bda1c button');\n",
              "      quickchartButtonEl.style.display =\n",
              "        google.colab.kernel.accessAllowed ? 'block' : 'none';\n",
              "    })();\n",
              "  </script>\n",
              "</div>\n",
              "    </div>\n",
              "  </div>\n"
            ],
            "application/vnd.google.colaboratory.intrinsic+json": {
              "type": "dataframe",
              "variable_name": "df"
            }
          },
          "metadata": {},
          "execution_count": 35
        }
      ],
      "source": [
        "import pandas as pd\n",
        "import gzip\n",
        "\n",
        "dataset_path = 'kddcup.data_10_percent.gz'\n",
        "\n",
        "with gzip.open(dataset_path, 'rt') as f:\n",
        "    df = pd.read_csv(f, header=None)\n",
        "\n",
        "df.head()"
      ]
    },
    {
      "cell_type": "code",
      "execution_count": 36,
      "metadata": {
        "id": "xILkMjBb7iBi"
      },
      "outputs": [],
      "source": [
        "df = df.drop_duplicates()"
      ]
    },
    {
      "cell_type": "markdown",
      "source": [
        "## Mini análise exploratória\n"
      ],
      "metadata": {
        "id": "rJoi2FCKUla4"
      }
    },
    {
      "cell_type": "code",
      "execution_count": 37,
      "metadata": {
        "id": "hEchxqCb8Tja",
        "colab": {
          "base_uri": "https://localhost:8080/"
        },
        "outputId": "5ceb29e2-4cc2-4692-98e0-32ebd77cf42e"
      },
      "outputs": [
        {
          "output_type": "stream",
          "name": "stdout",
          "text": [
            "Value Counts for the label column\n",
            "normal.             87832\n",
            "neptune.            51820\n",
            "back.                 968\n",
            "teardrop.             918\n",
            "satan.                906\n",
            "warezclient.          893\n",
            "ipsweep.              651\n",
            "smurf.                641\n",
            "portsweep.            416\n",
            "pod.                  206\n",
            "nmap.                 158\n",
            "guess_passwd.          53\n",
            "buffer_overflow.       30\n",
            "warezmaster.           20\n",
            "land.                  19\n",
            "imap.                  12\n",
            "rootkit.               10\n",
            "loadmodule.             9\n",
            "ftp_write.              8\n",
            "multihop.               7\n",
            "phf.                    4\n",
            "perl.                   3\n",
            "spy.                    2\n",
            "Name: 41, dtype: int64\n"
          ]
        }
      ],
      "source": [
        "# Uma rápida análise nas labels dos dados\n",
        "col = df.iloc[:, 41]\n",
        "value_counts = col.value_counts().sort_values(ascending=False)\n",
        "print(f\"Value Counts for the label column\")\n",
        "print(value_counts)"
      ]
    },
    {
      "cell_type": "code",
      "execution_count": 38,
      "metadata": {
        "id": "wQWzFeazxV5b"
      },
      "outputs": [],
      "source": [
        "# Queremos apenas fazer predições nesses ataques.\n",
        "labels_allowed = ['normal.', 'neptune.', 'ipsweep.', 'portsweep.', 'pod.', 'satan.',  'guess_passwd.']\n",
        "labels = df.iloc[:, -1]\n",
        "mask = labels.isin(labels_allowed)\n",
        "df = df[mask]"
      ]
    },
    {
      "cell_type": "code",
      "execution_count": 39,
      "metadata": {
        "id": "-8E4cXHBx517",
        "colab": {
          "base_uri": "https://localhost:8080/"
        },
        "outputId": "38972b86-5cea-44f3-d0b9-f4472c197785"
      },
      "outputs": [
        {
          "output_type": "stream",
          "name": "stdout",
          "text": [
            "Value Counts for the label column\n",
            "normal.          87832\n",
            "neptune.         51820\n",
            "satan.             906\n",
            "ipsweep.           651\n",
            "portsweep.         416\n",
            "pod.               206\n",
            "guess_passwd.       53\n",
            "Name: 41, dtype: int64\n"
          ]
        }
      ],
      "source": [
        "# Visualização do dataset apos remover as outras labels\n",
        "col = df.iloc[:, 41]\n",
        "value_counts = col.value_counts().sort_values(ascending=False)\n",
        "print(f\"Value Counts for the label column\")\n",
        "print(value_counts)"
      ]
    },
    {
      "cell_type": "code",
      "execution_count": 40,
      "metadata": {
        "id": "nKMxp7HjUXsX"
      },
      "outputs": [],
      "source": [
        "# fazer one-hot nas variáveis categóricas (ex: protocolo = http, udp -> [0, 1], [1, 0])\n",
        "\n",
        "number_col = df.select_dtypes(include=['number']).columns # pegar colunas numéricas\n",
        "cat_col = df.columns.difference(number_col) # pegar colunas categóricas\n",
        "cat_col = cat_col.drop(41) # remover coluna do rótulo\n",
        "df_cat = df[cat_col].copy()\n",
        "one_hot_data = pd.get_dummies(df_cat, columns=cat_col) # one-hot\n",
        "one_hot_df = pd.concat([df, one_hot_data],axis=1)\n",
        "one_hot_df.drop(columns=cat_col, inplace=True)"
      ]
    },
    {
      "cell_type": "code",
      "execution_count": 41,
      "metadata": {
        "id": "45StFv_WUgmA"
      },
      "outputs": [],
      "source": [
        "dataset_x = torch.tensor(one_hot_df.drop(41, axis=1).values, dtype=torch.float32)\n",
        "dataset_y = torch.tensor(pd.factorize(one_hot_df[41])[0], dtype=torch.float32)"
      ]
    },
    {
      "cell_type": "markdown",
      "source": [
        "## Split de treino, validação e teste\n"
      ],
      "metadata": {
        "id": "xEYGnHl4UYTN"
      }
    },
    {
      "cell_type": "code",
      "execution_count": 42,
      "metadata": {
        "id": "qKNWObPxVndC"
      },
      "outputs": [],
      "source": [
        "def split_data(dataset_x, dataset_y, tr_split, val_split, te_split):\n",
        "  assert tr_split + val_split + te_split == 1.0\n",
        "\n",
        "  # para reproducibilidade\n",
        "  torch.manual_seed(1)\n",
        "\n",
        "  permutation = torch.randperm(len(dataset_x))\n",
        "\n",
        "  dataset_size = len(dataset_x)\n",
        "  tr_size = int(dataset_size * tr_split)\n",
        "  val_size = int(dataset_size * val_split)\n",
        "  te_size = int(dataset_size * te_split)\n",
        "\n",
        "  train_idx = permutation[:tr_size]\n",
        "  val_idx = permutation[tr_size:tr_size + val_size]\n",
        "  test_idx = permutation[-te_size:]\n",
        "\n",
        "  Xtr = dataset_x[train_idx]\n",
        "  Ytr = dataset_y[train_idx]\n",
        "\n",
        "  Xval = dataset_x[val_idx]\n",
        "  Yval = dataset_y[val_idx]\n",
        "\n",
        "  Xte = dataset_x[test_idx]\n",
        "  Yte = dataset_y[test_idx]\n",
        "\n",
        "  return Xtr, Ytr, Xval, Yval, Xte, Yte\n",
        "\n",
        "tr_split = 0.7\n",
        "val_split = 0.15\n",
        "te_split = 1 - (tr_split + val_split)\n",
        "\n",
        "Xtr, Ytr, Xval, Yval, Xte, Yte = split_data(dataset_x, dataset_y, tr_split, val_split, te_split)"
      ]
    },
    {
      "cell_type": "code",
      "execution_count": 43,
      "metadata": {
        "id": "xpco42vRTD8h"
      },
      "outputs": [],
      "source": [
        "# definir normalizadores (um para cada feature)\n",
        "from sklearn import preprocessing\n",
        "\n",
        "minmax_scaler_vector = []\n",
        "\n",
        "for col in Xtr.transpose(0, 1):\n",
        "  minmax_scaler = preprocessing.MinMaxScaler()\n",
        "  minmax_scaler.fit(col.view(-1, 1))\n",
        "  minmax_scaler_vector.append(minmax_scaler)"
      ]
    },
    {
      "cell_type": "code",
      "execution_count": 44,
      "metadata": {
        "id": "1phDeMkIZmaU"
      },
      "outputs": [],
      "source": [
        "# normalizar os dados\n",
        "# sei que parece uma gambiarra, mas ficar nesse \"vai e vem\" de np.array e torch.tensor é mais rápido\n",
        "Xtr_normal = [minmax_scaler_vector[i].transform(col.view(-1, 1)) for i, col in enumerate(Xtr.transpose(0, 1))]\n",
        "Xval_normal = [minmax_scaler_vector[i].transform(col.view(-1, 1)) for i, col in enumerate(Xval.transpose(0, 1))]\n",
        "Xte_normal = [minmax_scaler_vector[i].transform(col.view(-1, 1)) for i, col in enumerate(Xte.transpose(0, 1))]\n",
        "\n",
        "Xtr_normal = torch.tensor(np.array(Xtr_normal, dtype=np.float32)).squeeze(-1).transpose(0, 1)\n",
        "Xval_normal = torch.tensor(np.array(Xval_normal, dtype=np.float32)).squeeze(-1).transpose(0, 1)\n",
        "Xte_normal = torch.tensor(np.array(Xte_normal, dtype=np.float32)).squeeze(-1).transpose(0, 1)"
      ]
    },
    {
      "cell_type": "code",
      "execution_count": 45,
      "metadata": {
        "id": "paavZ1eolIBa"
      },
      "outputs": [],
      "source": [
        "# preparar os dados para a TMGGAN. Poderia utilizar um DataLoader, mas\n",
        "# por falta de tempo vou utilizar o mesmo método ineficiente utilizado\n",
        "# pelo código.\n",
        "unable_to_train = []\n",
        "unique_labels = torch.unique(dataset_y)\n",
        "XtrN_for_TMG = []\n",
        "for i, label in enumerate(unique_labels):\n",
        "    filtered_xs = Xtr_normal[Ytr == label].tolist()\n",
        "    XtrN_for_TMG.append(torch.tensor(filtered_xs))\n",
        "\n",
        "\n",
        "# XtrN_for_TMG -> cata sublista i contém a classe i"
      ]
    },
    {
      "cell_type": "code",
      "execution_count": 46,
      "metadata": {
        "id": "dXzwhnf0XsOX"
      },
      "outputs": [],
      "source": [
        "# preparar DataLoaders para cada split\n",
        "tr_dataset = TensorDataset(Xtr_normal, Ytr)\n",
        "tr_dataloader = DataLoader(tr_dataset, batch_size=64, shuffle=True)\n",
        "\n",
        "val_dataset = TensorDataset(Xval_normal, Yval)\n",
        "val_dataloader = DataLoader(val_dataset, batch_size=64, shuffle=True)\n",
        "\n",
        "te_dataset = TensorDataset(Xte_normal, Yte)\n",
        "te_dataloader = DataLoader(te_dataset, batch_size=64, shuffle=True)"
      ]
    },
    {
      "cell_type": "markdown",
      "metadata": {
        "id": "2ThUSterIavD"
      },
      "source": [
        "# Definir o modelo TMG-GAN"
      ]
    },
    {
      "cell_type": "markdown",
      "source": [
        "## GAN fully connected (proposto pelo artigo)"
      ],
      "metadata": {
        "id": "96QUvqXcVD34"
      }
    },
    {
      "cell_type": "code",
      "source": [
        "# TMG ORIGINAL - SEM DCGAN\n",
        "\n",
        "\n",
        "class Generator(nn.Module):\n",
        "  def __init__(self):\n",
        "    super(Generator, self).__init__()\n",
        "    self.main = nn.Sequential(\n",
        "        nn.Linear(128, 512),\n",
        "        nn.Dropout(0.2),\n",
        "        nn.LeakyReLU(inplace=True),\n",
        "        nn.Linear(512, 128),\n",
        "        nn.Dropout(0.2),\n",
        "        nn.LeakyReLU(inplace=True),\n",
        "        nn.Linear(128, 32),\n",
        "        nn.Dropout(0.2),\n",
        "        nn.LeakyReLU(inplace=True),\n",
        "    )\n",
        "    self.hidden_status = None\n",
        "    self.fc = nn.Sequential(\n",
        "        nn.Linear(32, 117),\n",
        "        nn.Sigmoid(),\n",
        "    )\n",
        "\n",
        "  def forward(self, x):\n",
        "    x = self.main(x)\n",
        "    self.hidden_status = x\n",
        "    return self.fc(x)\n",
        "\n",
        "  def generate_samples(self, num: int) -> torch.Tensor:\n",
        "    z = torch.randn(num, 128, device=device)\n",
        "    return self.forward(z)\n",
        "\n",
        "\n",
        "class DiscriminatorClassifier(nn.Module):\n",
        "    def __init__(self, ndf, nc):\n",
        "        super(DiscriminatorClassifier, self).__init__()\n",
        "        self.main = nn.Sequential(\n",
        "            spectral_norm(nn.Conv1d(nc, ndf, 9, 3, 0, bias=False)),\n",
        "            nn.LeakyReLU(0.2, inplace=True),\n",
        "            nn.Dropout(0.2),\n",
        "            spectral_norm(nn.Conv1d(ndf, ndf*2, 6, 3, 0, bias=False)),\n",
        "            nn.Dropout(0.2),\n",
        "            nn.LeakyReLU(0.2, inplace=True),\n",
        "            spectral_norm(nn.Conv1d(ndf*2, ndf*2, 6, 2, 0, bias=False)),\n",
        "            nn.Dropout(0.2),\n",
        "        )\n",
        "        self.leaky = nn.LeakyReLU(0.2, inplace=False)\n",
        "        self.dfc =  nn.Sequential(\n",
        "            (nn.Conv1d(ndf*2, 1, 3, 1, 0, bias=False))\n",
        "        )\n",
        "        self.cfc = nn.Sequential(\n",
        "            spectral_norm(nn.Conv1d(ndf*2, 7, 3, 1, 0, bias=False))\n",
        "        )\n",
        "        self.apply(init_weights)\n",
        "        self.hidden_status = None\n",
        "\n",
        "    def forward(self, input):\n",
        "        x = self.main(input)\n",
        "        self.hidden_status = x\n",
        "        x1 = self.leaky(self.dfc(x))\n",
        "        x2 = self.leaky(self.cfc(x).squeeze(-1))\n",
        "        return x1, x2"
      ],
      "metadata": {
        "id": "kB0POJE16Vcj"
      },
      "execution_count": 49,
      "outputs": []
    },
    {
      "cell_type": "markdown",
      "source": [
        "### Gradient Penalty - Foi utilizado para comparar com outros métodos de manter a restrição 1-Lipschitz. Não é utilizado."
      ],
      "metadata": {
        "id": "iRLs5TVdVV3p"
      }
    },
    {
      "cell_type": "code",
      "execution_count": 50,
      "metadata": {
        "id": "rX-ZWlVluyT5"
      },
      "outputs": [],
      "source": [
        "def gradient_penalty(critic, real, fake, lambda_gp):\n",
        "    # calcular o gradient penalty\n",
        "    batch_size = real.size(0)\n",
        "    epsilon = torch.rand(batch_size, 1, 1).to(real.device)\n",
        "    interpolated = interpolate(real, fake, epsilon)\n",
        "    critic_scores_interpolated = critic(interpolated)[0]\n",
        "    gradients_interpolated = torch.autograd.grad(\n",
        "        outputs=critic_scores_interpolated, inputs=interpolated,\n",
        "        grad_outputs=torch.ones_like(critic_scores_interpolated),\n",
        "        create_graph=True, retain_graph=True\n",
        "    )[0]\n",
        "    # norma L2\n",
        "    gradients_norm = gradients_interpolated.norm(2, dim=1)\n",
        "    gradient_penalty = lambda_gp * ((gradients_norm - 1) ** 2).mean()\n",
        "    return gradient_penalty\n",
        "\n",
        "def interpolate(real, fake, epsilon):\n",
        "  return epsilon * real + (1 - epsilon) * fake"
      ]
    },
    {
      "cell_type": "markdown",
      "source": [
        "## DCGAN (proposto por nós)"
      ],
      "metadata": {
        "id": "-gH_gf0VUy1A"
      }
    },
    {
      "cell_type": "code",
      "execution_count": 57,
      "metadata": {
        "id": "Dt-53__y7BgQ"
      },
      "outputs": [],
      "source": [
        "def save_and_download(model, name='model'):\n",
        "  torch.save(model.state_dict(), f'{name}.pth')\n",
        "  from google.colab import files\n",
        "  files.download(f'{name}.pth')"
      ]
    },
    {
      "cell_type": "code",
      "execution_count": 58,
      "metadata": {
        "id": "ZLvUKF9JkeZo"
      },
      "outputs": [],
      "source": [
        "def init_weights(layer: nn.Module):\n",
        "    if type(layer) == nn.Conv1d:\n",
        "        nn.init.normal_(layer.weight, 0.0, 0.02)\n",
        "        if layer.bias is not None:\n",
        "            nn.init.constant_(layer.bias, 0)\n",
        "    elif type(layer) == nn.BatchNorm1d:\n",
        "        nn.init.normal_(layer.weight, 1.0, 0.02)\n",
        "        nn.init.constant_(layer.bias, 0)\n",
        "\n",
        "class Generator(nn.Module):\n",
        "  def __init__(self):\n",
        "    super(Generator, self).__init__()\n",
        "    self.relu = nn.ReLU()\n",
        "    self.dropout1 = nn.Dropout(0.2)\n",
        "    self.dropout2 = nn.Dropout(0.2)\n",
        "    self.dropout3 = nn.Dropout(0.2)\n",
        "    self.dropout4 = nn.Dropout(0.2)\n",
        "    self.conv1 = nn.ConvTranspose1d(256, 128, 3, 1, 1)\n",
        "    self.conv2 = nn.ConvTranspose1d(128, 256, 3, 1, 1)\n",
        "    self.conv3 = nn.ConvTranspose1d(256, 512, 3, 1, 1)\n",
        "    self.conv4 = nn.ConvTranspose1d(512, 117, 3, 1, 1)\n",
        "    self.sigmoid = nn.ReLU()\n",
        "    self.hidden_status = None\n",
        "  def forward(self, x):\n",
        "    x = self.relu(self.dropout1(self.conv1(x)))\n",
        "    x = self.relu(self.dropout2(self.conv2(x)))\n",
        "    x = self.relu(self.dropout3(self.conv3(x)))\n",
        "    x = self.relu(self.dropout4(self.conv4(x)))\n",
        "    self.hidden_status = x\n",
        "    return self.sigmoid(x)\n",
        "\n",
        "  def generate_samples(self, num: int) -> torch.Tensor:\n",
        "    z = torch.randn(num, 256, 1, device=device)\n",
        "    return self.forward(z).squeeze(-1).unsqueeze(1)\n",
        "\n",
        "\n",
        "class DiscriminatorClassifier(nn.Module):\n",
        "    def __init__(self, ndf, nc):\n",
        "        super(DiscriminatorClassifier, self).__init__()\n",
        "        self.main = nn.Sequential(\n",
        "            spectral_norm(nn.Conv1d(nc, ndf, 9, 3, 0, bias=False)),\n",
        "            nn.LeakyReLU(0.2, inplace=True),\n",
        "            nn.Dropout(0.2),\n",
        "            spectral_norm(nn.Conv1d(ndf, ndf*2, 6, 3, 0, bias=False)),\n",
        "            nn.Dropout(0.2),\n",
        "            nn.LeakyReLU(0.2, inplace=True),\n",
        "            spectral_norm(nn.Conv1d(ndf*2, ndf*2, 6, 1, 0, bias=False)),\n",
        "            nn.Dropout(0.2),\n",
        "        )\n",
        "        self.leaky = nn.LeakyReLU(0.2, inplace=False)\n",
        "        self.dfc =  nn.Sequential(\n",
        "            spectral_norm(nn.Conv1d(ndf*2, ndf, 3, 1, 0, bias=False))\n",
        "        )\n",
        "        self.cfc = nn.Sequential(\n",
        "            spectral_norm(nn.Conv1d(ndf*2, ndf, 3, 1, 0, bias=False))\n",
        "        )\n",
        "        self.l1 = spectral_norm(nn.Linear(768, 1))\n",
        "        self.l2 = spectral_norm(nn.Linear(768, 7))\n",
        "        self.apply(init_weights)\n",
        "        self.hidden_status = None\n",
        "\n",
        "    def forward(self, input):\n",
        "        x = self.main(input)\n",
        "        self.hidden_status = x\n",
        "        x1 = self.leaky(self.dfc(x))\n",
        "        x2 = self.leaky(self.cfc(x).squeeze(-1))\n",
        "        x1 = x.view(x.shape[0], -1)\n",
        "        x2 = x.view(x.shape[0], -1)\n",
        "        return self.l1(x1), self.l2(x2)"
      ]
    },
    {
      "cell_type": "markdown",
      "source": [
        "## TMG-GAN"
      ],
      "metadata": {
        "id": "pt5s5tSpVOu4"
      }
    },
    {
      "cell_type": "code",
      "source": [
        "class TMGGAN(nn.Module):\n",
        "    def __init__(self, hyperparams, dataset_info):\n",
        "        super().__init__()\n",
        "        self.generators = nn.ModuleList([Generator().to(device) for i in range(dataset_info[\"num_labels\"])])\n",
        "        self.cd = DiscriminatorClassifier(hyperparams['ndf'], hyperparams['nc']).to(device)\n",
        "\n",
        "        self.batch_size = hyperparams['batch_size']\n",
        "        self.epochs     = hyperparams['epochs']\n",
        "        self.c_loop_num = hyperparams['cd_loop_num']\n",
        "        self.lr         = hyperparams['lr']\n",
        "        self.clip_value = hyperparams['clip_value']\n",
        "\n",
        "        self.labels       = dataset_info['labels']\n",
        "        self.num_labels   = dataset_info['num_labels']\n",
        "        self.num_features = dataset_info['num_features']\n",
        "        self.samples      = dataset_info['samples']\n",
        "\n",
        "        self.criterion = nn.CrossEntropyLoss()\n",
        "\n",
        "        self.gLoss = []\n",
        "        self.cLoss = []\n",
        "\n",
        "    def fit(self):\n",
        "        # colocar geradores e discriminador em modo de treino\n",
        "        for generator in self.generators:\n",
        "            generator.train()\n",
        "        self.cd.train()\n",
        "        # inicializar otimizadores\n",
        "        cd_optimizer = torch.optim.Adam(\n",
        "            params=self.cd.parameters(),\n",
        "            lr=self.lr,\n",
        "            betas=(0.9, 0.999)\n",
        "        )\n",
        "        g_optimizers = [\n",
        "            torch.optim.Adam(\n",
        "                params=self.generators[i].parameters(),\n",
        "                lr=0.0002,\n",
        "                betas=(0.9, 0.999),\n",
        "            )\n",
        "            for i in range(self.num_labels)\n",
        "        ]\n",
        "        criterion = nn.CrossEntropyLoss()\n",
        "        # loop de treino\n",
        "        for epoch in range(self.epochs):\n",
        "            print(epoch/self.epochs)\n",
        "            for label in self.labels:\n",
        "                # treinar discriminador e classificador\n",
        "                for _ in range(5):\n",
        "                    cd_optimizer.zero_grad()\n",
        "                    real_samples = self._get_target_samples(label, self.batch_size).to(device)\n",
        "                    score_real, predicted_labels = self.cd(real_samples)\n",
        "                    score_real = score_real.mean()\n",
        "                    generated_samples = self.generators[label].generate_samples(self.batch_size).to(device)\n",
        "                    score_generated = self.cd(generated_samples)[0].mean()\n",
        "                    d_loss = (score_generated - score_real) / 2\n",
        "                    c_loss = criterion(\n",
        "                        predicted_labels.squeeze(1),\n",
        "                        torch.full([len(predicted_labels)], label, device=device),\n",
        "                    )\n",
        "                    self.cLoss.append(c_loss)\n",
        "                    #gp = gradient_penalty(self.cd, real_samples, generated_samples, 10)\n",
        "                    loss = d_loss + c_loss\n",
        "                    loss.backward()\n",
        "                    cd_optimizer.step()\n",
        "\n",
        "                # treinar gerador\n",
        "                g_optimizers[label].zero_grad()\n",
        "                generated_samples = self.generators[label].generate_samples(self.batch_size).to(device)\n",
        "                real_samples = self._get_target_samples(label, self.batch_size).to(device)\n",
        "\n",
        "                self.cd(real_samples)\n",
        "                hidden_real = self.cd.hidden_status\n",
        "\n",
        "                score_generated, predicted_labels = self.cd(generated_samples)\n",
        "                hidden_generated = self.cd.hidden_status\n",
        "\n",
        "                cd_hidden_loss = -cosine_similarity(hidden_real, hidden_generated).mean()\n",
        "\n",
        "                score_generated = score_generated.mean()\n",
        "                loss_label = criterion(\n",
        "                    predicted_labels.squeeze(1),\n",
        "                    torch.full([len(predicted_labels)], label, device=device),\n",
        "                )\n",
        "\n",
        "                if epoch <= self.epochs/2:\n",
        "                    cd_hidden_loss = 0\n",
        "\n",
        "                g_loss = -score_generated + loss_label + cd_hidden_loss\n",
        "                g_loss.backward()\n",
        "                g_optimizers[label].step()\n",
        "                self.gLoss.append(g_loss.item())\n",
        "\n",
        "            if epoch % 100 == 0:\n",
        "                torchvision.utils.save_image(generated_samples.squeeze(1), f\"outpute_{epoch}.png\", normalize=True)\n",
        "\n",
        "            #treinar os geradores com a similaridade cosseno\n",
        "            for optim in g_optimizers:\n",
        "                optim.zero_grad()\n",
        "            for i in self.generators:\n",
        "                i.generate_samples(3)\n",
        "            g_hidden_losses = []\n",
        "            for i, _ in enumerate(self.generators):\n",
        "                for j, _ in enumerate(self.generators):\n",
        "                    if i != j:\n",
        "                        g_hidden_losses.append(\n",
        "                            cosine_similarity(\n",
        "                                self.generators[i].hidden_status,\n",
        "                                self.generators[j].hidden_status,\n",
        "                            )\n",
        "                        )\n",
        "            g_hidden_loss = torch.mean(torch.stack(g_hidden_losses)) / self.num_features\n",
        "            g_hidden_loss.backward()\n",
        "            for i in g_optimizers:\n",
        "                i.step()\n",
        "\n",
        "        # treino finalizado, preparar para teste/validação\n",
        "        self.cd.eval()\n",
        "        for i in self.generators:\n",
        "            i.eval()\n",
        "\n",
        "    def _get_target_samples(self, label, num):\n",
        "        samples = torch.stack(random.choices(self.samples[label],k=num))\n",
        "        return samples.unsqueeze(1)\n",
        "\n",
        "    def generate_samples(self, target_label: int, num: int):\n",
        "        return self.generators[target_label].generate_samples(num).cpu().detach()\n",
        "\n",
        "    def generate_qualified_samples(self, target_label, num):\n",
        "        result = []\n",
        "        patience = 10\n",
        "        while len(result) < num:\n",
        "            sample = self.generators[target_label].generate_samples(1)\n",
        "            label = torch.argmax(self.cd(sample)[1])\n",
        "            if label == target_label or patience == 0:\n",
        "                result.append(sample.cpu().detach())\n",
        "                patience = 10\n",
        "            else:\n",
        "                patience -= 1\n",
        "        return torch.cat(result)\n"
      ],
      "metadata": {
        "id": "hx9zEMu3NySG"
      },
      "execution_count": 59,
      "outputs": []
    },
    {
      "cell_type": "code",
      "execution_count": 60,
      "metadata": {
        "id": "rhHoozYK7TLB"
      },
      "outputs": [],
      "source": [
        "device = 'cuda' if torch.cuda.is_available() else 'cpu'\n",
        "# ------ hyperparams -------- #\n",
        "hyperparams = {\n",
        "    'batch_size': 64,\n",
        "    'epochs': 1000,\n",
        "    'cd_loop_num': 5,\n",
        "    'lr': 2e-4,\n",
        "    'clip_value': 0.01,\n",
        "    'ndf': 64,\n",
        "    'nc':  1,\n",
        "}\n",
        "dataset_info = {\n",
        "    'labels': [i for i in range(len(XtrN_for_TMG))],\n",
        "    'samples': XtrN_for_TMG,\n",
        "    'num_labels': len(XtrN_for_TMG),\n",
        "    'num_features': len(Xtr_normal[0]),\n",
        "}\n",
        "# ---------------------------  #"
      ]
    },
    {
      "cell_type": "markdown",
      "metadata": {
        "id": "-sKLh0hwIozn"
      },
      "source": [
        "# Treinar, validar e testar o modelo.\n",
        "\n",
        "\n"
      ]
    },
    {
      "cell_type": "markdown",
      "source": [
        "### Para rodar o TMG GAN com o nosso modelo, rode as células do DCGAN (proposto por nós) e NÂO rode o GAN fully connected (proposto pelo artigo). Já, se quiser rodar o TMG GAN com o discriminador e gerador proposto por eles, rode GAN fully connected (proposto pelo artigo) e NÃO rode DCGAN (proposto por nós).\n",
        "\n",
        "\n",
        "### Importante: a TMG GAN abaixo foi treinada com o nosso classificador e discriminador, a DCGAN."
      ],
      "metadata": {
        "id": "43gpnaZYVwOa"
      }
    },
    {
      "cell_type": "code",
      "execution_count": 61,
      "metadata": {
        "id": "PsY0_muN034M"
      },
      "outputs": [],
      "source": [
        "tmg = TMGGAN(hyperparams, dataset_info)"
      ]
    },
    {
      "cell_type": "code",
      "source": [
        "tmg.fit()"
      ],
      "metadata": {
        "id": "aG2hb_E5oiFQ",
        "colab": {
          "base_uri": "https://localhost:8080/"
        },
        "outputId": "e573a1fc-4340-4f5a-f7fe-ef96b33eaf38"
      },
      "execution_count": 62,
      "outputs": [
        {
          "output_type": "stream",
          "name": "stdout",
          "text": [
            "0.0\n",
            "0.001\n",
            "0.002\n",
            "0.003\n",
            "0.004\n",
            "0.005\n",
            "0.006\n",
            "0.007\n",
            "0.008\n",
            "0.009\n",
            "0.01\n",
            "0.011\n",
            "0.012\n",
            "0.013\n",
            "0.014\n",
            "0.015\n",
            "0.016\n",
            "0.017\n",
            "0.018\n",
            "0.019\n",
            "0.02\n",
            "0.021\n",
            "0.022\n",
            "0.023\n",
            "0.024\n",
            "0.025\n",
            "0.026\n",
            "0.027\n",
            "0.028\n",
            "0.029\n",
            "0.03\n",
            "0.031\n",
            "0.032\n",
            "0.033\n",
            "0.034\n",
            "0.035\n",
            "0.036\n",
            "0.037\n",
            "0.038\n",
            "0.039\n",
            "0.04\n",
            "0.041\n",
            "0.042\n",
            "0.043\n",
            "0.044\n",
            "0.045\n",
            "0.046\n",
            "0.047\n",
            "0.048\n",
            "0.049\n",
            "0.05\n",
            "0.051\n",
            "0.052\n",
            "0.053\n",
            "0.054\n",
            "0.055\n",
            "0.056\n",
            "0.057\n",
            "0.058\n",
            "0.059\n",
            "0.06\n",
            "0.061\n",
            "0.062\n",
            "0.063\n",
            "0.064\n",
            "0.065\n",
            "0.066\n",
            "0.067\n",
            "0.068\n",
            "0.069\n",
            "0.07\n",
            "0.071\n",
            "0.072\n",
            "0.073\n",
            "0.074\n",
            "0.075\n",
            "0.076\n",
            "0.077\n",
            "0.078\n",
            "0.079\n",
            "0.08\n",
            "0.081\n",
            "0.082\n",
            "0.083\n",
            "0.084\n",
            "0.085\n",
            "0.086\n",
            "0.087\n",
            "0.088\n",
            "0.089\n",
            "0.09\n",
            "0.091\n",
            "0.092\n",
            "0.093\n",
            "0.094\n",
            "0.095\n",
            "0.096\n",
            "0.097\n",
            "0.098\n",
            "0.099\n",
            "0.1\n",
            "0.101\n",
            "0.102\n",
            "0.103\n",
            "0.104\n",
            "0.105\n",
            "0.106\n",
            "0.107\n",
            "0.108\n",
            "0.109\n",
            "0.11\n",
            "0.111\n",
            "0.112\n",
            "0.113\n",
            "0.114\n",
            "0.115\n",
            "0.116\n",
            "0.117\n",
            "0.118\n",
            "0.119\n",
            "0.12\n",
            "0.121\n",
            "0.122\n",
            "0.123\n",
            "0.124\n",
            "0.125\n",
            "0.126\n",
            "0.127\n",
            "0.128\n",
            "0.129\n",
            "0.13\n",
            "0.131\n",
            "0.132\n",
            "0.133\n",
            "0.134\n",
            "0.135\n",
            "0.136\n",
            "0.137\n",
            "0.138\n",
            "0.139\n",
            "0.14\n",
            "0.141\n",
            "0.142\n",
            "0.143\n",
            "0.144\n",
            "0.145\n",
            "0.146\n",
            "0.147\n",
            "0.148\n",
            "0.149\n",
            "0.15\n",
            "0.151\n",
            "0.152\n",
            "0.153\n",
            "0.154\n",
            "0.155\n",
            "0.156\n",
            "0.157\n",
            "0.158\n",
            "0.159\n",
            "0.16\n",
            "0.161\n",
            "0.162\n",
            "0.163\n",
            "0.164\n",
            "0.165\n",
            "0.166\n",
            "0.167\n",
            "0.168\n",
            "0.169\n",
            "0.17\n",
            "0.171\n",
            "0.172\n",
            "0.173\n",
            "0.174\n",
            "0.175\n",
            "0.176\n",
            "0.177\n",
            "0.178\n",
            "0.179\n",
            "0.18\n",
            "0.181\n",
            "0.182\n",
            "0.183\n",
            "0.184\n",
            "0.185\n",
            "0.186\n",
            "0.187\n",
            "0.188\n",
            "0.189\n",
            "0.19\n",
            "0.191\n",
            "0.192\n",
            "0.193\n",
            "0.194\n",
            "0.195\n",
            "0.196\n",
            "0.197\n",
            "0.198\n",
            "0.199\n",
            "0.2\n",
            "0.201\n",
            "0.202\n",
            "0.203\n",
            "0.204\n",
            "0.205\n",
            "0.206\n",
            "0.207\n",
            "0.208\n",
            "0.209\n",
            "0.21\n",
            "0.211\n",
            "0.212\n",
            "0.213\n",
            "0.214\n",
            "0.215\n",
            "0.216\n",
            "0.217\n",
            "0.218\n",
            "0.219\n",
            "0.22\n",
            "0.221\n",
            "0.222\n",
            "0.223\n",
            "0.224\n",
            "0.225\n",
            "0.226\n",
            "0.227\n",
            "0.228\n",
            "0.229\n",
            "0.23\n",
            "0.231\n",
            "0.232\n",
            "0.233\n",
            "0.234\n",
            "0.235\n",
            "0.236\n",
            "0.237\n",
            "0.238\n",
            "0.239\n",
            "0.24\n",
            "0.241\n",
            "0.242\n",
            "0.243\n",
            "0.244\n",
            "0.245\n",
            "0.246\n",
            "0.247\n",
            "0.248\n",
            "0.249\n",
            "0.25\n",
            "0.251\n",
            "0.252\n",
            "0.253\n",
            "0.254\n",
            "0.255\n",
            "0.256\n",
            "0.257\n",
            "0.258\n",
            "0.259\n",
            "0.26\n",
            "0.261\n",
            "0.262\n",
            "0.263\n",
            "0.264\n",
            "0.265\n",
            "0.266\n",
            "0.267\n",
            "0.268\n",
            "0.269\n",
            "0.27\n",
            "0.271\n",
            "0.272\n",
            "0.273\n",
            "0.274\n",
            "0.275\n",
            "0.276\n",
            "0.277\n",
            "0.278\n",
            "0.279\n",
            "0.28\n",
            "0.281\n",
            "0.282\n",
            "0.283\n",
            "0.284\n",
            "0.285\n",
            "0.286\n",
            "0.287\n",
            "0.288\n",
            "0.289\n",
            "0.29\n",
            "0.291\n",
            "0.292\n",
            "0.293\n",
            "0.294\n",
            "0.295\n",
            "0.296\n",
            "0.297\n",
            "0.298\n",
            "0.299\n",
            "0.3\n",
            "0.301\n",
            "0.302\n",
            "0.303\n",
            "0.304\n",
            "0.305\n",
            "0.306\n",
            "0.307\n",
            "0.308\n",
            "0.309\n",
            "0.31\n",
            "0.311\n",
            "0.312\n",
            "0.313\n",
            "0.314\n",
            "0.315\n",
            "0.316\n",
            "0.317\n",
            "0.318\n",
            "0.319\n",
            "0.32\n",
            "0.321\n",
            "0.322\n",
            "0.323\n",
            "0.324\n",
            "0.325\n",
            "0.326\n",
            "0.327\n",
            "0.328\n",
            "0.329\n",
            "0.33\n",
            "0.331\n",
            "0.332\n",
            "0.333\n",
            "0.334\n",
            "0.335\n",
            "0.336\n",
            "0.337\n",
            "0.338\n",
            "0.339\n",
            "0.34\n",
            "0.341\n",
            "0.342\n",
            "0.343\n",
            "0.344\n",
            "0.345\n",
            "0.346\n",
            "0.347\n",
            "0.348\n",
            "0.349\n",
            "0.35\n",
            "0.351\n",
            "0.352\n",
            "0.353\n",
            "0.354\n",
            "0.355\n",
            "0.356\n",
            "0.357\n",
            "0.358\n",
            "0.359\n",
            "0.36\n",
            "0.361\n",
            "0.362\n",
            "0.363\n",
            "0.364\n",
            "0.365\n",
            "0.366\n",
            "0.367\n",
            "0.368\n",
            "0.369\n",
            "0.37\n",
            "0.371\n",
            "0.372\n",
            "0.373\n",
            "0.374\n",
            "0.375\n",
            "0.376\n",
            "0.377\n",
            "0.378\n",
            "0.379\n",
            "0.38\n",
            "0.381\n",
            "0.382\n",
            "0.383\n",
            "0.384\n",
            "0.385\n",
            "0.386\n",
            "0.387\n",
            "0.388\n",
            "0.389\n",
            "0.39\n",
            "0.391\n",
            "0.392\n",
            "0.393\n",
            "0.394\n",
            "0.395\n",
            "0.396\n",
            "0.397\n",
            "0.398\n",
            "0.399\n",
            "0.4\n",
            "0.401\n",
            "0.402\n",
            "0.403\n",
            "0.404\n",
            "0.405\n",
            "0.406\n",
            "0.407\n",
            "0.408\n",
            "0.409\n",
            "0.41\n",
            "0.411\n",
            "0.412\n",
            "0.413\n",
            "0.414\n",
            "0.415\n",
            "0.416\n",
            "0.417\n",
            "0.418\n",
            "0.419\n",
            "0.42\n",
            "0.421\n",
            "0.422\n",
            "0.423\n",
            "0.424\n",
            "0.425\n",
            "0.426\n",
            "0.427\n",
            "0.428\n",
            "0.429\n",
            "0.43\n",
            "0.431\n",
            "0.432\n",
            "0.433\n",
            "0.434\n",
            "0.435\n",
            "0.436\n",
            "0.437\n",
            "0.438\n",
            "0.439\n",
            "0.44\n",
            "0.441\n",
            "0.442\n",
            "0.443\n",
            "0.444\n",
            "0.445\n",
            "0.446\n",
            "0.447\n",
            "0.448\n",
            "0.449\n",
            "0.45\n",
            "0.451\n",
            "0.452\n",
            "0.453\n",
            "0.454\n",
            "0.455\n",
            "0.456\n",
            "0.457\n",
            "0.458\n",
            "0.459\n",
            "0.46\n",
            "0.461\n",
            "0.462\n",
            "0.463\n",
            "0.464\n",
            "0.465\n",
            "0.466\n",
            "0.467\n",
            "0.468\n",
            "0.469\n",
            "0.47\n",
            "0.471\n",
            "0.472\n",
            "0.473\n",
            "0.474\n",
            "0.475\n",
            "0.476\n",
            "0.477\n",
            "0.478\n",
            "0.479\n",
            "0.48\n",
            "0.481\n",
            "0.482\n",
            "0.483\n",
            "0.484\n",
            "0.485\n",
            "0.486\n",
            "0.487\n",
            "0.488\n",
            "0.489\n",
            "0.49\n",
            "0.491\n",
            "0.492\n",
            "0.493\n",
            "0.494\n",
            "0.495\n",
            "0.496\n",
            "0.497\n",
            "0.498\n",
            "0.499\n",
            "0.5\n",
            "0.501\n",
            "0.502\n",
            "0.503\n",
            "0.504\n",
            "0.505\n",
            "0.506\n",
            "0.507\n",
            "0.508\n",
            "0.509\n",
            "0.51\n",
            "0.511\n",
            "0.512\n",
            "0.513\n",
            "0.514\n",
            "0.515\n",
            "0.516\n",
            "0.517\n",
            "0.518\n",
            "0.519\n",
            "0.52\n",
            "0.521\n",
            "0.522\n",
            "0.523\n",
            "0.524\n",
            "0.525\n",
            "0.526\n",
            "0.527\n",
            "0.528\n",
            "0.529\n",
            "0.53\n",
            "0.531\n",
            "0.532\n",
            "0.533\n",
            "0.534\n",
            "0.535\n",
            "0.536\n",
            "0.537\n",
            "0.538\n",
            "0.539\n",
            "0.54\n",
            "0.541\n",
            "0.542\n",
            "0.543\n",
            "0.544\n",
            "0.545\n",
            "0.546\n",
            "0.547\n",
            "0.548\n",
            "0.549\n",
            "0.55\n",
            "0.551\n",
            "0.552\n",
            "0.553\n",
            "0.554\n",
            "0.555\n",
            "0.556\n",
            "0.557\n",
            "0.558\n",
            "0.559\n",
            "0.56\n",
            "0.561\n",
            "0.562\n",
            "0.563\n",
            "0.564\n",
            "0.565\n",
            "0.566\n",
            "0.567\n",
            "0.568\n",
            "0.569\n",
            "0.57\n",
            "0.571\n",
            "0.572\n",
            "0.573\n",
            "0.574\n",
            "0.575\n",
            "0.576\n",
            "0.577\n",
            "0.578\n",
            "0.579\n",
            "0.58\n",
            "0.581\n",
            "0.582\n",
            "0.583\n",
            "0.584\n",
            "0.585\n",
            "0.586\n",
            "0.587\n",
            "0.588\n",
            "0.589\n",
            "0.59\n",
            "0.591\n",
            "0.592\n",
            "0.593\n",
            "0.594\n",
            "0.595\n",
            "0.596\n",
            "0.597\n",
            "0.598\n",
            "0.599\n",
            "0.6\n",
            "0.601\n",
            "0.602\n",
            "0.603\n",
            "0.604\n",
            "0.605\n",
            "0.606\n",
            "0.607\n",
            "0.608\n",
            "0.609\n",
            "0.61\n",
            "0.611\n",
            "0.612\n",
            "0.613\n",
            "0.614\n",
            "0.615\n",
            "0.616\n",
            "0.617\n",
            "0.618\n",
            "0.619\n",
            "0.62\n",
            "0.621\n",
            "0.622\n",
            "0.623\n",
            "0.624\n",
            "0.625\n",
            "0.626\n",
            "0.627\n",
            "0.628\n",
            "0.629\n",
            "0.63\n",
            "0.631\n",
            "0.632\n",
            "0.633\n",
            "0.634\n",
            "0.635\n",
            "0.636\n",
            "0.637\n",
            "0.638\n",
            "0.639\n",
            "0.64\n",
            "0.641\n",
            "0.642\n",
            "0.643\n",
            "0.644\n",
            "0.645\n",
            "0.646\n",
            "0.647\n",
            "0.648\n",
            "0.649\n",
            "0.65\n",
            "0.651\n",
            "0.652\n",
            "0.653\n",
            "0.654\n",
            "0.655\n",
            "0.656\n",
            "0.657\n",
            "0.658\n",
            "0.659\n",
            "0.66\n",
            "0.661\n",
            "0.662\n",
            "0.663\n",
            "0.664\n",
            "0.665\n",
            "0.666\n",
            "0.667\n",
            "0.668\n",
            "0.669\n",
            "0.67\n",
            "0.671\n",
            "0.672\n",
            "0.673\n",
            "0.674\n",
            "0.675\n",
            "0.676\n",
            "0.677\n",
            "0.678\n",
            "0.679\n",
            "0.68\n",
            "0.681\n",
            "0.682\n",
            "0.683\n",
            "0.684\n",
            "0.685\n",
            "0.686\n",
            "0.687\n",
            "0.688\n",
            "0.689\n",
            "0.69\n",
            "0.691\n",
            "0.692\n",
            "0.693\n",
            "0.694\n",
            "0.695\n",
            "0.696\n",
            "0.697\n",
            "0.698\n",
            "0.699\n",
            "0.7\n",
            "0.701\n",
            "0.702\n",
            "0.703\n",
            "0.704\n",
            "0.705\n",
            "0.706\n",
            "0.707\n",
            "0.708\n",
            "0.709\n",
            "0.71\n",
            "0.711\n",
            "0.712\n",
            "0.713\n",
            "0.714\n",
            "0.715\n",
            "0.716\n",
            "0.717\n",
            "0.718\n",
            "0.719\n",
            "0.72\n",
            "0.721\n",
            "0.722\n",
            "0.723\n",
            "0.724\n",
            "0.725\n",
            "0.726\n",
            "0.727\n",
            "0.728\n",
            "0.729\n",
            "0.73\n",
            "0.731\n",
            "0.732\n",
            "0.733\n",
            "0.734\n",
            "0.735\n",
            "0.736\n",
            "0.737\n",
            "0.738\n",
            "0.739\n",
            "0.74\n",
            "0.741\n",
            "0.742\n",
            "0.743\n",
            "0.744\n",
            "0.745\n",
            "0.746\n",
            "0.747\n",
            "0.748\n",
            "0.749\n",
            "0.75\n",
            "0.751\n",
            "0.752\n",
            "0.753\n",
            "0.754\n",
            "0.755\n",
            "0.756\n",
            "0.757\n",
            "0.758\n",
            "0.759\n",
            "0.76\n",
            "0.761\n",
            "0.762\n",
            "0.763\n",
            "0.764\n",
            "0.765\n",
            "0.766\n",
            "0.767\n",
            "0.768\n",
            "0.769\n",
            "0.77\n",
            "0.771\n",
            "0.772\n",
            "0.773\n",
            "0.774\n",
            "0.775\n",
            "0.776\n",
            "0.777\n",
            "0.778\n",
            "0.779\n",
            "0.78\n",
            "0.781\n",
            "0.782\n",
            "0.783\n",
            "0.784\n",
            "0.785\n",
            "0.786\n",
            "0.787\n",
            "0.788\n",
            "0.789\n",
            "0.79\n",
            "0.791\n",
            "0.792\n",
            "0.793\n",
            "0.794\n",
            "0.795\n",
            "0.796\n",
            "0.797\n",
            "0.798\n",
            "0.799\n",
            "0.8\n",
            "0.801\n",
            "0.802\n",
            "0.803\n",
            "0.804\n",
            "0.805\n",
            "0.806\n",
            "0.807\n",
            "0.808\n",
            "0.809\n",
            "0.81\n",
            "0.811\n",
            "0.812\n",
            "0.813\n",
            "0.814\n",
            "0.815\n",
            "0.816\n",
            "0.817\n",
            "0.818\n",
            "0.819\n",
            "0.82\n",
            "0.821\n",
            "0.822\n",
            "0.823\n",
            "0.824\n",
            "0.825\n",
            "0.826\n",
            "0.827\n",
            "0.828\n",
            "0.829\n",
            "0.83\n",
            "0.831\n",
            "0.832\n",
            "0.833\n",
            "0.834\n",
            "0.835\n",
            "0.836\n",
            "0.837\n",
            "0.838\n",
            "0.839\n",
            "0.84\n",
            "0.841\n",
            "0.842\n",
            "0.843\n",
            "0.844\n",
            "0.845\n",
            "0.846\n",
            "0.847\n",
            "0.848\n",
            "0.849\n",
            "0.85\n",
            "0.851\n",
            "0.852\n",
            "0.853\n",
            "0.854\n",
            "0.855\n",
            "0.856\n",
            "0.857\n",
            "0.858\n",
            "0.859\n",
            "0.86\n",
            "0.861\n",
            "0.862\n",
            "0.863\n",
            "0.864\n",
            "0.865\n",
            "0.866\n",
            "0.867\n",
            "0.868\n",
            "0.869\n",
            "0.87\n",
            "0.871\n",
            "0.872\n",
            "0.873\n",
            "0.874\n",
            "0.875\n",
            "0.876\n",
            "0.877\n",
            "0.878\n",
            "0.879\n",
            "0.88\n",
            "0.881\n",
            "0.882\n",
            "0.883\n",
            "0.884\n",
            "0.885\n",
            "0.886\n",
            "0.887\n",
            "0.888\n",
            "0.889\n",
            "0.89\n",
            "0.891\n",
            "0.892\n",
            "0.893\n",
            "0.894\n",
            "0.895\n",
            "0.896\n",
            "0.897\n",
            "0.898\n",
            "0.899\n",
            "0.9\n",
            "0.901\n",
            "0.902\n",
            "0.903\n",
            "0.904\n",
            "0.905\n",
            "0.906\n",
            "0.907\n",
            "0.908\n",
            "0.909\n",
            "0.91\n",
            "0.911\n",
            "0.912\n",
            "0.913\n",
            "0.914\n",
            "0.915\n",
            "0.916\n",
            "0.917\n",
            "0.918\n",
            "0.919\n",
            "0.92\n",
            "0.921\n",
            "0.922\n",
            "0.923\n",
            "0.924\n",
            "0.925\n",
            "0.926\n",
            "0.927\n",
            "0.928\n",
            "0.929\n",
            "0.93\n",
            "0.931\n",
            "0.932\n",
            "0.933\n",
            "0.934\n",
            "0.935\n",
            "0.936\n",
            "0.937\n",
            "0.938\n",
            "0.939\n",
            "0.94\n",
            "0.941\n",
            "0.942\n",
            "0.943\n",
            "0.944\n",
            "0.945\n",
            "0.946\n",
            "0.947\n",
            "0.948\n",
            "0.949\n",
            "0.95\n",
            "0.951\n",
            "0.952\n",
            "0.953\n",
            "0.954\n",
            "0.955\n",
            "0.956\n",
            "0.957\n",
            "0.958\n",
            "0.959\n",
            "0.96\n",
            "0.961\n",
            "0.962\n",
            "0.963\n",
            "0.964\n",
            "0.965\n",
            "0.966\n",
            "0.967\n",
            "0.968\n",
            "0.969\n",
            "0.97\n",
            "0.971\n",
            "0.972\n",
            "0.973\n",
            "0.974\n",
            "0.975\n",
            "0.976\n",
            "0.977\n",
            "0.978\n",
            "0.979\n",
            "0.98\n",
            "0.981\n",
            "0.982\n",
            "0.983\n",
            "0.984\n",
            "0.985\n",
            "0.986\n",
            "0.987\n",
            "0.988\n",
            "0.989\n",
            "0.99\n",
            "0.991\n",
            "0.992\n",
            "0.993\n",
            "0.994\n",
            "0.995\n",
            "0.996\n",
            "0.997\n",
            "0.998\n",
            "0.999\n"
          ]
        }
      ]
    },
    {
      "cell_type": "markdown",
      "source": [
        "## Definir funções de treino, validação e teste"
      ],
      "metadata": {
        "id": "OuHPcpPIXbCf"
      }
    },
    {
      "cell_type": "code",
      "execution_count": 84,
      "metadata": {
        "id": "X7lNHIx745Vk"
      },
      "outputs": [],
      "source": [
        "# testar classificador, obtendo precision, recall e f1\n",
        "def test_val(model, loader):\n",
        "    criterion = torch.nn.CrossEntropyLoss()\n",
        "    positive = 0\n",
        "    negative = 0\n",
        "    matrix = torch.zeros((7,7), dtype=int).to(device)\n",
        "    binary_matrix = torch.zeros((2,2), dtype=int).to(device)\n",
        "    y_true = torch.tensor([]).to(device)\n",
        "    y_scores = torch.tensor([]).to(device)\n",
        "    with torch.no_grad():\n",
        "        iter = 0\n",
        "        loss_sum = 0\n",
        "        for i, data in enumerate(loader):\n",
        "            X, y = data\n",
        "            X = X.unsqueeze(1).to(device)\n",
        "            y = y.int().to(device)\n",
        "            y_pred = model(X)[1].squeeze(0)\n",
        "            loss = criterion(y_pred.squeeze(1), y.long())\n",
        "            loss_sum += loss.item()\n",
        "            iter += 1\n",
        "            y_hat= torch.argmax(torch.nn.functional.softmax(y_pred.squeeze(1), dim=1), dim=1);\n",
        "\n",
        "            # matriz de confusão para classificação\n",
        "            for i in range(len(y)):\n",
        "                matrix[y[i], y_hat[i]] += 1\n",
        "            positive += torch.sum(y_hat == y)\n",
        "            negative += torch.sum(y_hat != y)\n",
        "\n",
        "            # matriz de confusão para classificação binária\n",
        "            correct = torch.eq(y_hat, y)\n",
        "            incorrect = torch.logical_not(correct)\n",
        "\n",
        "            binary_matrix[0, 0] += torch.sum(correct[y == 0])\n",
        "            binary_matrix[0, 1] += torch.sum(incorrect[y == 0])\n",
        "\n",
        "            binary_matrix[1, 1] += torch.sum(correct[y != 0])\n",
        "            binary_matrix[1, 0] += torch.sum(incorrect[y != 0])\n",
        "\n",
        "            y_true = torch.cat((y_true, y))\n",
        "            y_scores = torch.cat((y_scores, y_hat))\n",
        "\n",
        "    acc = positive / (positive + negative)\n",
        "    avg_loss = loss_sum / iter\n",
        "    print(\"Accuracy:\", acc.item())\n",
        "    print(\"Average Loss:\", avg_loss)\n",
        "\n",
        "    y_true[y_true != 0] = 1\n",
        "    y_scores[y_scores != 0] = 1\n",
        "\n",
        "    return matrix, binary_matrix, y_true, y_scores\n",
        "\n",
        "def train(model, epochs, optimizer, criterion, loader):\n",
        "  lossi = []\n",
        "  for epoch in range(epochs):\n",
        "    for i, data in enumerate(loader):\n",
        "        X, y = data\n",
        "        optimizer.zero_grad()\n",
        "        outputs = model(X.unsqueeze(1).to(device))\n",
        "        loss = criterion(outputs[1].squeeze(1), y.to(torch.int64).to(device))\n",
        "        loss.backward();\n",
        "        optimizer.step();\n",
        "        lossi.append(loss.item())\n",
        "  return lossi"
      ]
    },
    {
      "cell_type": "code",
      "execution_count": 64,
      "metadata": {
        "id": "AVk8Se_sSaNb"
      },
      "outputs": [],
      "source": [
        "def fit_model(model, loader, epochs):\n",
        "  criterion = nn.CrossEntropyLoss()\n",
        "  lr = 1e-4\n",
        "  optimizer = torch.optim.Adam(model.parameters(), lr=lr)\n",
        "  train(model, epochs, optimizer, criterion, loader)\n",
        "  return model"
      ]
    },
    {
      "cell_type": "markdown",
      "source": [
        "## Função que faz enhancement dos dados (gera novos dados sintéticos) utilizando a TMG-GAN"
      ],
      "metadata": {
        "id": "xSq0_UnZXkTA"
      }
    },
    {
      "cell_type": "code",
      "execution_count": 243,
      "metadata": {
        "id": "MykNox1xNYd3"
      },
      "outputs": [],
      "source": [
        "def enhance_train_data():\n",
        "  Ytr_enhanced = torch.tensor([])\n",
        "  Xtr_enhanced = torch.tensor([])\n",
        "  for i, class_ in enumerate(XtrN_for_TMG):\n",
        "    with torch.no_grad():\n",
        "      new_samples = tmg.generate_qualified_samples(i, 1000).squeeze(1)\n",
        "      cat = torch.cat((class_, new_samples))\n",
        "      Xtr_enhanced = torch.cat((Xtr_enhanced, cat))\n",
        "      new_Y = torch.full([len(cat)], i)\n",
        "      Ytr_enhanced = torch.cat((Ytr_enhanced, new_Y))\n",
        "      print(i/7)\n",
        "  dataset = TensorDataset(Xtr_enhanced, Ytr_enhanced)\n",
        "  dataloader = DataLoader(dataset, batch_size=64, shuffle=True)\n",
        "  return dataloader\n"
      ]
    },
    {
      "cell_type": "markdown",
      "source": [
        "## Funções de métricas (AUCROC, matriz de confusão, precisão, recall, f1)"
      ],
      "metadata": {
        "id": "GVu6QH5eX0Ru"
      }
    },
    {
      "cell_type": "code",
      "source": [
        "def aucroc(y_true, y_scores):\n",
        "    fpr, tpr, _ = roc_curve(y_true, y_scores)\n",
        "    roc_auc = auc(fpr, tpr)\n",
        "    plt.figure()\n",
        "    plt.plot(fpr, tpr, color='darkorange', lw=2, label='ROC curve (area = %0.2f)' % roc_auc)\n",
        "    plt.plot([0, 1], [0, 1], color='navy', lw=2, linestyle='--')\n",
        "    plt.xlim([0.0, 1.0])\n",
        "    plt.ylim([0.0, 1.05])\n",
        "    plt.xlabel('False Positive Rate')\n",
        "    plt.ylabel('True Positive Rate')\n",
        "    plt.title('Receiver Operating Characteristic')\n",
        "    plt.legend(loc=\"lower right\")\n",
        "    plt.show()"
      ],
      "metadata": {
        "id": "OPt6sS94XZO6"
      },
      "execution_count": 235,
      "outputs": []
    },
    {
      "cell_type": "code",
      "execution_count": 111,
      "metadata": {
        "id": "KgT4oJDnMJiP"
      },
      "outputs": [],
      "source": [
        "def plot_confusion(matrix):\n",
        "    fig, ax = plt.subplots()\n",
        "    matrix = matrix.cpu()\n",
        "    matrix = matrix/(matrix.sum(axis=0) + 0.00001)\n",
        "    cax = ax.matshow(matrix, cmap='coolwarm')\n",
        "    plt.colorbar(cax)\n",
        "    plt.xlabel('True')\n",
        "    plt.ylabel('Predicted')\n",
        "    plt.show()"
      ]
    },
    {
      "cell_type": "code",
      "execution_count": 89,
      "metadata": {
        "id": "jCpAmnSdBSi-"
      },
      "outputs": [],
      "source": [
        "def print_metrics(matrix):\n",
        "  tp = matrix[0][0]\n",
        "  tn = matrix[1][1]\n",
        "  fp = matrix[1][0]\n",
        "  fn = matrix[0][1]\n",
        "  precision = tp/(tp + fp)\n",
        "  recall = tp/(tp + fn)\n",
        "  print(\"Precision:\", precision.item())\n",
        "  print(\"Recall:\", recall.item())\n",
        "  print(\"F1:\", (2 * precision * recall) / (precision + recall).item())"
      ]
    },
    {
      "cell_type": "markdown",
      "source": [
        "## Para testar o modelo, primeiro treinaremos o classificador apenas com os dados de treino"
      ],
      "metadata": {
        "id": "6c81gNAsX-VI"
      }
    },
    {
      "cell_type": "code",
      "execution_count": 125,
      "metadata": {
        "id": "eGtJJfO4EETD",
        "colab": {
          "base_uri": "https://localhost:8080/"
        },
        "outputId": "082d43f0-62b9-4389-9b8a-e5ea2741c5ab"
      },
      "outputs": [
        {
          "output_type": "stream",
          "name": "stdout",
          "text": [
            "Accuracy: 0.9829433560371399\n",
            "Average Loss: 0.10859445030535306\n",
            "Precision: 0.9734839797019958\n",
            "Recall: 0.9996966123580933\n",
            "F1: tensor(0.9864, device='cuda:0')\n"
          ]
        }
      ],
      "source": [
        "model = fit_model(DiscriminatorClassifier(64, 1).to(device), tr_dataloader, epochs=1)\n",
        "matrix, binary, ytrue, ypred = test_val(model, te_dataloader)\n",
        "print_metrics(binary)"
      ]
    },
    {
      "cell_type": "code",
      "source": [
        "plot_confusion(matrix)"
      ],
      "metadata": {
        "colab": {
          "base_uri": "https://localhost:8080/",
          "height": 454
        },
        "id": "w9HIU_D4gdeB",
        "outputId": "f4ac9538-b39c-4f35-ac09-eee3381a0bcf"
      },
      "execution_count": 126,
      "outputs": [
        {
          "output_type": "display_data",
          "data": {
            "text/plain": [
              "<Figure size 640x480 with 2 Axes>"
            ],
            "image/png": "[encoded data removed]"
          },
          "metadata": {}
        }
      ]
    },
    {
      "cell_type": "markdown",
      "source": [
        "#### Pela matriz de confusão, podemos ver que o classificador falha em classificar os dados que nao sejam da classe 0 ou 1. Assim, não temos um classificador útil"
      ],
      "metadata": {
        "id": "33I0WNFRaEtf"
      }
    },
    {
      "cell_type": "code",
      "source": [
        "plot_confusion(binary)"
      ],
      "metadata": {
        "colab": {
          "base_uri": "https://localhost:8080/",
          "height": 454
        },
        "id": "DcknjYh5aPMx",
        "outputId": "35cf39a1-0853-4470-8aa1-7c003f913d04"
      },
      "execution_count": 127,
      "outputs": [
        {
          "output_type": "display_data",
          "data": {
            "text/plain": [
              "<Figure size 640x480 with 2 Axes>"
            ],
            "image/png": "[encoded data removed]"
          },
          "metadata": {}
        }
      ]
    },
    {
      "cell_type": "markdown",
      "source": [
        "#### Aqui, a matriz de positivos e negativos (TP, FP, FN, TN) não é muito útil, pois uma das classes, a classe 1, que é dado de ataque, como é majoritária, obfusca a performance do classificador em outras classes de ataque. Então veremos os dados \"crus\"."
      ],
      "metadata": {
        "id": "7SxvIxTqaWFU"
      }
    },
    {
      "cell_type": "code",
      "source": [
        "binary"
      ],
      "metadata": {
        "colab": {
          "base_uri": "https://localhost:8080/"
        },
        "id": "-nQ8ENxVc0ST",
        "outputId": "a0e2ff18-31c6-418b-913c-ac2f9cb01e64"
      },
      "execution_count": 128,
      "outputs": [
        {
          "output_type": "execute_result",
          "data": {
            "text/plain": [
              "tensor([[13180,     4],\n",
              "        [  359,  7739]], device='cuda:0')"
            ]
          },
          "metadata": {},
          "execution_count": 128
        }
      ]
    },
    {
      "cell_type": "code",
      "source": [
        "print(torch.sum(matrix[2:, :-2].diagonal())) # Soma dos acertos de cada classe"
      ],
      "metadata": {
        "colab": {
          "base_uri": "https://localhost:8080/"
        },
        "id": "Kjfdnh1li6Ex",
        "outputId": "5171e840-08f1-43e6-b9a8-1b41670b9f67"
      },
      "execution_count": 171,
      "outputs": [
        {
          "output_type": "stream",
          "name": "stdout",
          "text": [
            "tensor(10, device='cuda:0')\n"
          ]
        }
      ]
    },
    {
      "cell_type": "markdown",
      "source": [
        "#### Utilizando os dados não balanceados, acertamos apenas 1 dos 357 dados raros!"
      ],
      "metadata": {
        "id": "Nn0Eso5mjFfj"
      }
    },
    {
      "cell_type": "markdown",
      "source": [
        "## Obtido as métricas do treino anterior, faremos agora a geração de novos dados sintéticos para treinarmos o nosso novo classificador, e esperamos que os resultados sejam melhores"
      ],
      "metadata": {
        "id": "cP0W_ivFYKND"
      }
    },
    {
      "cell_type": "code",
      "source": [
        "# vamos utilizar a TMG GAN para gerar dados sintéticos\n",
        "dataloader = enhance_train_data()"
      ],
      "metadata": {
        "id": "R8uVPd33llZ9",
        "colab": {
          "base_uri": "https://localhost:8080/"
        },
        "outputId": "3f5fd302-74bc-4494-a88c-50bd16520cd2"
      },
      "execution_count": 244,
      "outputs": [
        {
          "output_type": "stream",
          "name": "stdout",
          "text": [
            "0.0\n",
            "0.14285714285714285\n",
            "0.2857142857142857\n",
            "0.42857142857142855\n",
            "0.5714285714285714\n",
            "0.7142857142857143\n",
            "0.8571428571428571\n"
          ]
        }
      ]
    },
    {
      "cell_type": "code",
      "execution_count": 245,
      "metadata": {
        "id": "bNDM7dXXEsIu",
        "colab": {
          "base_uri": "https://localhost:8080/"
        },
        "outputId": "4e3a1346-506b-4aa9-fb76-de7046d7658d"
      },
      "outputs": [
        {
          "output_type": "stream",
          "name": "stdout",
          "text": [
            "Accuracy: 0.9907433390617371\n",
            "Average Loss: 0.11222375930474326\n",
            "Precision: 0.9871708154678345\n",
            "Recall: 0.9980279207229614\n",
            "F1: tensor(0.9926, device='cuda:0')\n"
          ]
        }
      ],
      "source": [
        "model_enhanced_tmg = fit_model(DiscriminatorClassifier(64, 1).to(device), dataloader, 1)\n",
        "matrix_tmg, binary_tmg, ytrue, ypred = test_val(model_enhanced_tmg, te_dataloader)\n",
        "print_metrics(binary_tmg)"
      ]
    },
    {
      "cell_type": "code",
      "source": [
        "plot_confusion(matrix_tmg)"
      ],
      "metadata": {
        "id": "qsGCPIoXmh5e",
        "colab": {
          "base_uri": "https://localhost:8080/",
          "height": 454
        },
        "outputId": "73813118-5228-4a40-e138-9be1be4bad02"
      },
      "execution_count": 246,
      "outputs": [
        {
          "output_type": "display_data",
          "data": {
            "text/plain": [
              "<Figure size 640x480 with 2 Axes>"
            ],
            "image/png": "[encoded data removed]"
          },
          "metadata": {}
        }
      ]
    },
    {
      "cell_type": "markdown",
      "source": [
        "#### Como podemos ver, surge uma diagonal na matriz de confusão, o modelo passa a classificar os dados que não sejam apenas da classe 0 e 1."
      ],
      "metadata": {
        "id": "0CC4EHD6cgwu"
      }
    },
    {
      "cell_type": "code",
      "source": [
        "plot_confusion(binary_tmg)"
      ],
      "metadata": {
        "colab": {
          "base_uri": "https://localhost:8080/",
          "height": 454
        },
        "id": "b-SOg31YZG5y",
        "outputId": "0556150e-a384-4e72-bb8e-75c55c3cecba"
      },
      "execution_count": 247,
      "outputs": [
        {
          "output_type": "display_data",
          "data": {
            "text/plain": [
              "<Figure size 640x480 with 2 Axes>"
            ],
            "image/png": "[encoded data removed]"
          },
          "metadata": {}
        }
      ]
    },
    {
      "cell_type": "markdown",
      "source": [
        "#### Aqui, a visualização da matriz de positivos e negativos também não é muito útil. Veremos portanto, os dados crus"
      ],
      "metadata": {
        "id": "paDpQZfKdBZk"
      }
    },
    {
      "cell_type": "code",
      "source": [
        "binary_tmg"
      ],
      "metadata": {
        "colab": {
          "base_uri": "https://localhost:8080/"
        },
        "id": "kpVrnh-WdLcT",
        "outputId": "a41f7ad7-2c64-4acd-f0c5-2f66eb678213"
      },
      "execution_count": 248,
      "outputs": [
        {
          "output_type": "execute_result",
          "data": {
            "text/plain": [
              "tensor([[13158,    26],\n",
              "        [  171,  7927]], device='cuda:0')"
            ]
          },
          "metadata": {},
          "execution_count": 248
        }
      ]
    },
    {
      "cell_type": "code",
      "source": [
        "print(torch.sum(matrix_tmg[2:, :-2].diagonal())) # soma dos acertos das classes raras"
      ],
      "metadata": {
        "colab": {
          "base_uri": "https://localhost:8080/"
        },
        "id": "Arbd4tIdijZX",
        "outputId": "565e33d6-e8e2-4933-d0f3-c0ba72d953b2"
      },
      "execution_count": 254,
      "outputs": [
        {
          "output_type": "execute_result",
          "data": {
            "text/plain": [
              "tensor(183, device='cuda:0')"
            ]
          },
          "metadata": {},
          "execution_count": 254
        }
      ]
    },
    {
      "cell_type": "markdown",
      "source": [
        "#### Conseguimos classificar 183 dados de ataque que antes não tínhamos conseguido. Pode não parecer muito, mas 183 representa 51% dos dados raros!"
      ],
      "metadata": {
        "id": "v1aX3Eqdda9m"
      }
    },
    {
      "cell_type": "markdown",
      "source": [
        "# Trabalhos relacionados: outros métodos de data enhancing\n",
        "\n",
        "### SMOTE E SNGAN"
      ],
      "metadata": {
        "id": "UkgJpQjDhcxW"
      }
    },
    {
      "cell_type": "markdown",
      "source": [
        "## SMOTE. Balancearemos o dataset com o método SMOTE. Primeiro, geramos novos dados com o SMOTE, em seguida, treinamos o classificador com esses dados."
      ],
      "metadata": {
        "id": "QWvnJUZHhovv"
      }
    },
    {
      "cell_type": "code",
      "source": [
        "import imblearn\n",
        "import imblearn.over_sampling as o_s\n"
      ],
      "metadata": {
        "id": "GPluGtyWkfi7"
      },
      "execution_count": 100,
      "outputs": []
    },
    {
      "cell_type": "code",
      "source": [
        "smote = o_s.SMOTE(random_state=42)\n",
        "X_res, y_res = smote.fit_resample(Xtr_normal,Ytr)"
      ],
      "metadata": {
        "id": "nuu1fafSbHmy"
      },
      "execution_count": 101,
      "outputs": []
    },
    {
      "cell_type": "code",
      "source": [
        "adasyn_data = DataLoader(TensorDataset(torch.tensor(X_res), torch.tensor(y_res)), batch_size=64, shuffle=True)"
      ],
      "metadata": {
        "id": "KtC4e1SJbLza"
      },
      "execution_count": 102,
      "outputs": []
    },
    {
      "cell_type": "code",
      "source": [
        "def train_ada(model, epochs, batch_size, optimizer, criterion, loader):\n",
        "  lossi = []\n",
        "  for epoch in range(epochs):\n",
        "    for iter, data in enumerate(loader):\n",
        "        X, y = data\n",
        "        optimizer.zero_grad()\n",
        "        outputs = model(X.unsqueeze(1).to(device))\n",
        "        loss = criterion(outputs[1].squeeze(1), y.to(torch.int64).to(device))\n",
        "        loss.backward();\n",
        "        lossi.append(loss.item());\n",
        "        optimizer.step();\n",
        "\n",
        "  print(f'Epoch {epoch+1}/{epochs}, Loss: {loss.item()}')\n",
        "  return lossi"
      ],
      "metadata": {
        "id": "aE8005wdbX3l"
      },
      "execution_count": 103,
      "outputs": []
    },
    {
      "cell_type": "code",
      "source": [
        "model_smote = fit_model(DiscriminatorClassifier(64, 1).to(device), adasyn_data, 1)\n",
        "matrix_smote, binary_smote, ytrue_smote, ypred_smote= test_val(model_smote, loader=te_dataloader)\n",
        "print_metrics(binary_smote)"
      ],
      "metadata": {
        "id": "sdaEOwl-baaM",
        "colab": {
          "base_uri": "https://localhost:8080/"
        },
        "outputId": "cf28fc5b-de8e-4884-e042-f4f022af49b1"
      },
      "execution_count": 104,
      "outputs": [
        {
          "output_type": "stream",
          "name": "stdout",
          "text": [
            "Accuracy: 0.9614228010177612\n",
            "Average Loss: 0.26008118787506324\n",
            "Precision: 0.9942432045936584\n",
            "Recall: 0.9431887269020081\n",
            "F1: tensor(0.9680, device='cuda:0')\n"
          ]
        }
      ]
    },
    {
      "cell_type": "code",
      "source": [
        "plot_confusion(matrix_smote)"
      ],
      "metadata": {
        "id": "grz67qk6fy9h",
        "colab": {
          "base_uri": "https://localhost:8080/",
          "height": 454
        },
        "outputId": "03351a70-3cd5-4972-cb50-af0685233cfe"
      },
      "execution_count": 138,
      "outputs": [
        {
          "output_type": "display_data",
          "data": {
            "text/plain": [
              "<Figure size 640x480 with 2 Axes>"
            ],
            "image/png": "[encoded data removed]"
          },
          "metadata": {}
        }
      ]
    },
    {
      "cell_type": "markdown",
      "source": [
        "#### Podemos ver pela matriz de confusão que, em comparação à da TMG GAN, está bem pior. Não há uma diagonal definida, e o classificador classifica vários dados normais como dados de ataque."
      ],
      "metadata": {
        "id": "n7eIG6jid-a4"
      }
    },
    {
      "cell_type": "code",
      "source": [
        "plot_confusion(binary_smote)"
      ],
      "metadata": {
        "colab": {
          "base_uri": "https://localhost:8080/",
          "height": 454
        },
        "id": "VYdHruKAeNKl",
        "outputId": "f5f579f2-1773-4de6-b4bd-af4b1906e5d2"
      },
      "execution_count": 139,
      "outputs": [
        {
          "output_type": "display_data",
          "data": {
            "text/plain": [
              "<Figure size 640x480 with 2 Axes>"
            ],
            "image/png": "[encoded data removed]"
          },
          "metadata": {}
        }
      ]
    },
    {
      "cell_type": "markdown",
      "source": [
        "#### Aqui já é possivel ver que a diagonal esta menos definida do que antes"
      ],
      "metadata": {
        "id": "wOreOK_feV-z"
      }
    },
    {
      "cell_type": "code",
      "source": [
        "binary_smote"
      ],
      "metadata": {
        "colab": {
          "base_uri": "https://localhost:8080/"
        },
        "id": "YmV14jRLebGg",
        "outputId": "4f95a34b-0395-4dbf-99be-191258c1f590"
      },
      "execution_count": 140,
      "outputs": [
        {
          "output_type": "execute_result",
          "data": {
            "text/plain": [
              "tensor([[12435,   749],\n",
              "        [   72,  8026]], device='cuda:0')"
            ]
          },
          "metadata": {},
          "execution_count": 140
        }
      ]
    },
    {
      "cell_type": "code",
      "source": [
        "print(torch.sum(matrix_smote[2:, :-2].diagonal())) # soma dos acertos das classes raras"
      ],
      "metadata": {
        "colab": {
          "base_uri": "https://localhost:8080/"
        },
        "id": "HC5OR2bzjoNP",
        "outputId": "60fd15cd-8fa6-4d2d-d2d8-f740731ddef9"
      },
      "execution_count": 251,
      "outputs": [
        {
          "output_type": "stream",
          "name": "stdout",
          "text": [
            "tensor(2, device='cuda:0')\n"
          ]
        }
      ]
    },
    {
      "cell_type": "markdown",
      "source": [
        "#### Conseguimos classificar corretamente mais dados de ataque do que antes, porém nossa taxa de falso positivos aumentou consideravelmente."
      ],
      "metadata": {
        "id": "QJOFQJPcegkI"
      }
    },
    {
      "cell_type": "markdown",
      "source": [
        "## SNGAN (não é preciso rodar essa parte do código, pois não foi utilizada no relatório. Não tivemos tempo para comparar com a SNGAN)\n",
        "Utilizaremos o mesmo Critic e Gerador da TMG-GAN"
      ],
      "metadata": {
        "id": "qeYcstqLnpkP"
      }
    },
    {
      "cell_type": "code",
      "source": [
        "def init_weights(layer: nn.Module):\n",
        "    if type(layer) == nn.Conv1d:\n",
        "        nn.init.normal_(layer.weight, 0.0, 0.02)\n",
        "        if layer.bias is not None:\n",
        "            nn.init.constant_(layer.bias, 0)\n",
        "    elif type(layer) == nn.BatchNorm1d:\n",
        "        nn.init.normal_(layer.weight, 1.0, 0.02)\n",
        "        nn.init.constant_(layer.bias, 0)\n",
        "\n",
        "class Generator(nn.Module):\n",
        "  def __init__(self):\n",
        "    super(Generator, self).__init__()\n",
        "    self.relu = nn.ReLU()\n",
        "    self.dropout1 = nn.Dropout(0.2)\n",
        "    self.dropout2 = nn.Dropout(0.2)\n",
        "    self.dropout3 = nn.Dropout(0.2)\n",
        "    self.dropout4 = nn.Dropout(0.2)\n",
        "    self.conv1 = nn.ConvTranspose1d(256, 128, 3, 1, 1)\n",
        "    self.conv2 = nn.ConvTranspose1d(128, 256, 3, 1, 1)\n",
        "    self.conv3 = nn.ConvTranspose1d(256, 512, 3, 1, 1)\n",
        "    self.conv4 = nn.ConvTranspose1d(512, 117, 3, 1, 1)\n",
        "    self.sigmoid = nn.ReLU()\n",
        "    self.hidden_status = None\n",
        "  def forward(self, x):\n",
        "    x = self.relu(self.dropout1(self.conv1(x)))\n",
        "    x = self.relu(self.dropout2(self.conv2(x)))\n",
        "    x = self.relu(self.dropout3(self.conv3(x)))\n",
        "    x = self.relu(self.dropout4(self.conv4(x)))\n",
        "    self.hidden_status = x\n",
        "    return self.sigmoid(x)\n",
        "\n",
        "  def generate_samples(self, num: int) -> torch.Tensor:\n",
        "    z = torch.randn(num, 256, 1, device=device)\n",
        "    return self.forward(z).squeeze(-1).unsqueeze(1)\n",
        "\n",
        "\n",
        "class DiscriminatorClassifier(nn.Module):\n",
        "    def __init__(self, ndf, nc):\n",
        "        super(DiscriminatorClassifier, self).__init__()\n",
        "        self.main = nn.Sequential(\n",
        "            spectral_norm(nn.Conv1d(nc, ndf, 9, 3, 0, bias=False)),\n",
        "            nn.LeakyReLU(0.2, inplace=True),\n",
        "            nn.Dropout(0.2),\n",
        "            spectral_norm(nn.Conv1d(ndf, ndf*2, 6, 3, 0, bias=False)),\n",
        "            nn.Dropout(0.2),\n",
        "            nn.LeakyReLU(0.2, inplace=True),\n",
        "            spectral_norm(nn.Conv1d(ndf*2, ndf*2, 6, 1, 0, bias=False)),\n",
        "            nn.Dropout(0.2),\n",
        "        )\n",
        "        self.leaky = nn.LeakyReLU(0.2, inplace=False)\n",
        "        self.dfc =  nn.Sequential(\n",
        "            spectral_norm(nn.Conv1d(ndf*2, ndf, 3, 1, 0, bias=False))\n",
        "        )\n",
        "        self.cfc = nn.Sequential(\n",
        "            spectral_norm(nn.Conv1d(ndf*2, ndf, 3, 1, 0, bias=False))\n",
        "        )\n",
        "        self.l1 = spectral_norm(nn.Linear(768, 1))\n",
        "        self.l2 = spectral_norm(nn.Linear(768, 8))\n",
        "        self.apply(init_weights)\n",
        "        self.hidden_status = None\n",
        "\n",
        "    def forward(self, input):\n",
        "        x = self.main(input)\n",
        "        self.hidden_status = x\n",
        "        x1 = self.leaky(self.dfc(x))\n",
        "        x2 = self.leaky(self.cfc(x).squeeze(-1))\n",
        "        x1 = x.view(x.shape[0], -1)\n",
        "        x2 = x.view(x.shape[0], -1)\n",
        "        return self.l1(x1), self.l2(x2)"
      ],
      "metadata": {
        "id": "18_kDhySn0Nk"
      },
      "execution_count": null,
      "outputs": []
    },
    {
      "cell_type": "code",
      "source": [
        "g = Generator().to(device)\n",
        "d = DiscriminatorClassifier(1, 64).to(device)"
      ],
      "metadata": {
        "id": "H2ZjCu32uZMV"
      },
      "execution_count": null,
      "outputs": []
    },
    {
      "cell_type": "code",
      "source": [
        "# treinar discriminador e classificador\n",
        "opt_d = torch.optim.Adam( d.parameters(), lr=2e-4,)\n",
        "opt_g = torch.optim.Adam( g.parameters(), lr=2e-4,)\n",
        "for i, data in enumerate(tr_dataloader):\n",
        "  X, y = data\n",
        "  X = X.to(device)\n",
        "  y = y.to(device)\n",
        "  for _ in range(5):\n",
        "      opt_d.zero_grad()\n",
        "      score_real = d(X.unsqueeze(-1))[0].mean()\n",
        "      generated_samples = g.generate_samples(64)\n",
        "      score_generated = d(generated_samples)[0].mean()\n",
        "      d_loss = (score_generated - score_real) / 2\n",
        "      d_loss.backward()\n",
        "      opt_d.step()\n",
        "  # treinar gerador\n",
        "  opt_g.zero_grad()\n",
        "  generated_samples = g.generate_samples(64)\n",
        "  score_generated = d(generated_samples)[0].mean()\n",
        "  g_loss = -score_generated\n",
        "  g_loss.backward()\n",
        "  g_opt.step()\n"
      ],
      "metadata": {
        "id": "85BRFxafn_gJ"
      },
      "execution_count": null,
      "outputs": []
    },
    {
      "cell_type": "code",
      "source": [
        "!git init"
      ],
      "metadata": {
        "colab": {
          "base_uri": "https://localhost:8080/"
        },
        "id": "Eq63L03V2xNY",
        "outputId": "9b09e81e-03b1-4cbc-b675-f94119177067"
      },
      "execution_count": null,
      "outputs": [
        {
          "output_type": "stream",
          "name": "stdout",
          "text": [
            "\u001b[33mhint: Using 'master' as the name for the initial branch. This default branch name\u001b[m\n",
            "\u001b[33mhint: is subject to change. To configure the initial branch name to use in all\u001b[m\n",
            "\u001b[33mhint: of your new repositories, which will suppress this warning, call:\u001b[m\n",
            "\u001b[33mhint: \u001b[m\n",
            "\u001b[33mhint: \tgit config --global init.defaultBranch <name>\u001b[m\n",
            "\u001b[33mhint: \u001b[m\n",
            "\u001b[33mhint: Names commonly chosen instead of 'master' are 'main', 'trunk' and\u001b[m\n",
            "\u001b[33mhint: 'development'. The just-created branch can be renamed via this command:\u001b[m\n",
            "\u001b[33mhint: \u001b[m\n",
            "\u001b[33mhint: \tgit branch -m <name>\u001b[m\n",
            "Initialized empty Git repository in /content/.git/\n"
          ]
        }
      ]
    },
    {
      "cell_type": "code",
      "source": [],
      "metadata": {
        "colab": {
          "base_uri": "https://localhost:8080/"
        },
        "id": "Bn91eoS-2yFZ",
        "outputId": "e7a7aff4-71ac-46c8-c8b2-6c52ad6679b7"
      },
      "execution_count": null,
      "outputs": [
        {
          "output_type": "stream",
          "name": "stdout",
          "text": [
            "error: remote origin already exists.\n"
          ]
        }
      ]
    },
    {
      "cell_type": "code",
      "source": [],
      "metadata": {
        "id": "Y59FuOXDefWK"
      },
      "execution_count": null,
      "outputs": []
    }
  ],
  "metadata": {
    "colab": {
      "provenance": [],
      "collapsed_sections": [
        "o9oXxHa5ZJDl",
        "MqGcsZU1Uhpq",
        "rJoi2FCKUla4",
        "xEYGnHl4UYTN",
        "96QUvqXcVD34",
        "iRLs5TVdVV3p",
        "-gH_gf0VUy1A",
        "pt5s5tSpVOu4",
        "OuHPcpPIXbCf",
        "GVu6QH5eX0Ru",
        "6c81gNAsX-VI",
        "cP0W_ivFYKND",
        "QWvnJUZHhovv",
        "qeYcstqLnpkP"
      ],
      "gpuType": "T4"
    },
    "kernelspec": {
      "display_name": "Python 3",
      "name": "python3"
    },
    "language_info": {
      "name": "python"
    },
    "accelerator": "GPU"
  },
  "nbformat": 4,
  "nbformat_minor": 0
}